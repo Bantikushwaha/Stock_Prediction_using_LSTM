{
  "cells": [
    {
      "cell_type": "code",
      "execution_count": 1,
      "id": "6adef51b",
      "metadata": {
        "id": "6adef51b"
      },
      "outputs": [],
      "source": [
        "import numpy as np\n",
        "import pandas as pd\n",
        "import matplotlib.pyplot as plt\n",
        "import yfinance as yf\n",
        "from datetime import datetime"
      ]
    },
    {
      "cell_type": "markdown",
      "id": "c3ac01af",
      "metadata": {
        "id": "c3ac01af"
      },
      "source": [
        "## 1. Data Collection"
      ]
    },
    {
      "cell_type": "code",
      "execution_count": 2,
      "id": "0eaff66c",
      "metadata": {
        "colab": {
          "base_uri": "https://localhost:8080/"
        },
        "id": "0eaff66c",
        "outputId": "e44c1d4e-86eb-4304-b41c-e86e745e2593"
      },
      "outputs": [
        {
          "name": "stderr",
          "output_type": "stream",
          "text": [
            "C:\\Users\\Krish Patel\\AppData\\Local\\Temp\\ipykernel_13288\\2183070477.py:5: FutureWarning: YF.download() has changed argument auto_adjust default to True\n",
            "  df = yf.download(ticker, start, end)\n",
            "[*********************100%***********************]  1 of 1 completed\n"
          ]
        }
      ],
      "source": [
        "now = datetime.now()\n",
        "ticker = \"^NSEI\"\n",
        "start = datetime(now.year - 10, now.month, now.day)\n",
        "end = now\n",
        "df = yf.download(ticker, start, end)\n",
        "\n",
        "# Calculate RSI (Relative Strength Index)\n",
        "def calculate_rsi(data, window=14):\n",
        "    diff = data.diff(1).dropna()\n",
        "    gain = diff.mask(diff < 0, 0)\n",
        "    loss = diff.mask(diff > 0, 0).abs()\n",
        "    avg_gain = gain.rolling(window=window).mean()\n",
        "    avg_loss = loss.rolling(window=window).mean()\n",
        "    rs = avg_gain / avg_loss\n",
        "    rsi = 100 - (100 / (1 + rs))\n",
        "    return rsi\n",
        "\n",
        "df['RSI'] = calculate_rsi(df['Close'])\n",
        "\n",
        "# Calculate MACD (Moving Average Convergence Divergence)\n",
        "def calculate_macd(data, short_window=12, long_window=26, signal_window=9):\n",
        "    short_ema = data.ewm(span=short_window, adjust=False).mean()\n",
        "    long_ema = data.ewm(span=long_window, adjust=False).mean()\n",
        "    macd = short_ema - long_ema\n",
        "    signal_line = macd.ewm(span=signal_window, adjust=False).mean()\n",
        "    return macd, signal_line\n",
        "\n",
        "macd, signal_line = calculate_macd(df['Close'])\n",
        "df['MACD'] = macd\n",
        "df['MACD_Signal'] = signal_line\n",
        "\n",
        "# Calculate EMA 50\n",
        "df['EMA_50'] = df['Close'].ewm(span=50, adjust=False).mean()\n",
        "\n",
        "# Calculate SMA 20\n",
        "df['SMA_20'] = df['Close'].rolling(window=20).mean()\n",
        "\n",
        "# Calculate Stochastic RSI\n",
        "def calculate_stoch_rsi(data, window=14, k_window=3, d_window=3):\n",
        "    rsi = calculate_rsi(data, window)\n",
        "    min_rsi = rsi.rolling(window=window).min()\n",
        "    max_rsi = rsi.rolling(window=window).max()\n",
        "    stoch_rsi = (rsi - min_rsi) / (max_rsi - min_rsi)\n",
        "    k_line = stoch_rsi.rolling(window=k_window).mean()\n",
        "    d_line = k_line.rolling(window=d_window).mean()\n",
        "    return k_line, d_line\n",
        "\n",
        "df['StochRSI_K'], df['StochRSI_D'] = calculate_stoch_rsi(df['Close'])\n",
        "\n",
        "df.dropna(inplace=True)\n",
        "df = df.reset_index(drop=True)"
      ]
    },
    {
      "cell_type": "code",
      "execution_count": 3,
      "id": "eae9f1a8",
      "metadata": {
        "colab": {
          "base_uri": "https://localhost:8080/",
          "height": 257
        },
        "id": "eae9f1a8",
        "outputId": "f699918b-f536-482d-e660-8559f7822b4a"
      },
      "outputs": [
        {
          "data": {
            "text/html": [
              "<div>\n",
              "<style scoped>\n",
              "    .dataframe tbody tr th:only-of-type {\n",
              "        vertical-align: middle;\n",
              "    }\n",
              "\n",
              "    .dataframe tbody tr th {\n",
              "        vertical-align: top;\n",
              "    }\n",
              "\n",
              "    .dataframe thead tr th {\n",
              "        text-align: left;\n",
              "    }\n",
              "</style>\n",
              "<table border=\"1\" class=\"dataframe\">\n",
              "  <thead>\n",
              "    <tr>\n",
              "      <th>Price</th>\n",
              "      <th>Close</th>\n",
              "      <th>High</th>\n",
              "      <th>Low</th>\n",
              "      <th>Open</th>\n",
              "      <th>Volume</th>\n",
              "      <th>RSI</th>\n",
              "      <th>MACD</th>\n",
              "      <th>MACD_Signal</th>\n",
              "      <th>EMA_50</th>\n",
              "      <th>SMA_20</th>\n",
              "      <th>StochRSI_K</th>\n",
              "      <th>StochRSI_D</th>\n",
              "    </tr>\n",
              "    <tr>\n",
              "      <th>Ticker</th>\n",
              "      <th>^NSEI</th>\n",
              "      <th>^NSEI</th>\n",
              "      <th>^NSEI</th>\n",
              "      <th>^NSEI</th>\n",
              "      <th>^NSEI</th>\n",
              "      <th></th>\n",
              "      <th></th>\n",
              "      <th></th>\n",
              "      <th></th>\n",
              "      <th></th>\n",
              "      <th></th>\n",
              "      <th></th>\n",
              "    </tr>\n",
              "  </thead>\n",
              "  <tbody>\n",
              "    <tr>\n",
              "      <th>0</th>\n",
              "      <td>7856.549805</td>\n",
              "      <td>7906.950195</td>\n",
              "      <td>7817.799805</td>\n",
              "      <td>7841.899902</td>\n",
              "      <td>151900</td>\n",
              "      <td>31.099098</td>\n",
              "      <td>-93.897040</td>\n",
              "      <td>-77.050095</td>\n",
              "      <td>8043.206921</td>\n",
              "      <td>7999.342529</td>\n",
              "      <td>0.398967</td>\n",
              "      <td>0.229263</td>\n",
              "    </tr>\n",
              "    <tr>\n",
              "      <th>1</th>\n",
              "      <td>7849.250000</td>\n",
              "      <td>7877.500000</td>\n",
              "      <td>7825.200195</td>\n",
              "      <td>7869.500000</td>\n",
              "      <td>127000</td>\n",
              "      <td>32.987687</td>\n",
              "      <td>-89.874382</td>\n",
              "      <td>-79.614953</td>\n",
              "      <td>8035.600767</td>\n",
              "      <td>7979.220020</td>\n",
              "      <td>0.601273</td>\n",
              "      <td>0.407129</td>\n",
              "    </tr>\n",
              "    <tr>\n",
              "      <th>2</th>\n",
              "      <td>7831.600098</td>\n",
              "      <td>7870.350098</td>\n",
              "      <td>7812.649902</td>\n",
              "      <td>7837.000000</td>\n",
              "      <td>130600</td>\n",
              "      <td>32.850910</td>\n",
              "      <td>-87.106488</td>\n",
              "      <td>-81.113260</td>\n",
              "      <td>8027.600741</td>\n",
              "      <td>7956.027515</td>\n",
              "      <td>0.678695</td>\n",
              "      <td>0.559645</td>\n",
              "    </tr>\n",
              "    <tr>\n",
              "      <th>3</th>\n",
              "      <td>7883.799805</td>\n",
              "      <td>7897.100098</td>\n",
              "      <td>7832.000000</td>\n",
              "      <td>7837.149902</td>\n",
              "      <td>219800</td>\n",
              "      <td>37.019332</td>\n",
              "      <td>-79.781163</td>\n",
              "      <td>-80.846840</td>\n",
              "      <td>8021.961489</td>\n",
              "      <td>7937.190015</td>\n",
              "      <td>0.736123</td>\n",
              "      <td>0.672030</td>\n",
              "    </tr>\n",
              "    <tr>\n",
              "      <th>4</th>\n",
              "      <td>7942.700195</td>\n",
              "      <td>7959.299805</td>\n",
              "      <td>7879.450195</td>\n",
              "      <td>7910.600098</td>\n",
              "      <td>150300</td>\n",
              "      <td>43.227284</td>\n",
              "      <td>-68.434155</td>\n",
              "      <td>-78.364303</td>\n",
              "      <td>8018.853203</td>\n",
              "      <td>7922.680005</td>\n",
              "      <td>0.836676</td>\n",
              "      <td>0.750498</td>\n",
              "    </tr>\n",
              "  </tbody>\n",
              "</table>\n",
              "</div>"
            ],
            "text/plain": [
              "Price         Close         High          Low         Open  Volume        RSI  \\\n",
              "Ticker        ^NSEI        ^NSEI        ^NSEI        ^NSEI   ^NSEI              \n",
              "0       7856.549805  7906.950195  7817.799805  7841.899902  151900  31.099098   \n",
              "1       7849.250000  7877.500000  7825.200195  7869.500000  127000  32.987687   \n",
              "2       7831.600098  7870.350098  7812.649902  7837.000000  130600  32.850910   \n",
              "3       7883.799805  7897.100098  7832.000000  7837.149902  219800  37.019332   \n",
              "4       7942.700195  7959.299805  7879.450195  7910.600098  150300  43.227284   \n",
              "\n",
              "Price        MACD MACD_Signal       EMA_50       SMA_20 StochRSI_K StochRSI_D  \n",
              "Ticker                                                                         \n",
              "0      -93.897040  -77.050095  8043.206921  7999.342529   0.398967   0.229263  \n",
              "1      -89.874382  -79.614953  8035.600767  7979.220020   0.601273   0.407129  \n",
              "2      -87.106488  -81.113260  8027.600741  7956.027515   0.678695   0.559645  \n",
              "3      -79.781163  -80.846840  8021.961489  7937.190015   0.736123   0.672030  \n",
              "4      -68.434155  -78.364303  8018.853203  7922.680005   0.836676   0.750498  "
            ]
          },
          "execution_count": 3,
          "metadata": {},
          "output_type": "execute_result"
        }
      ],
      "source": [
        "df.head()"
      ]
    },
    {
      "cell_type": "code",
      "execution_count": 4,
      "id": "24020dcf",
      "metadata": {
        "colab": {
          "base_uri": "https://localhost:8080/",
          "height": 257
        },
        "id": "24020dcf",
        "outputId": "44f8c0de-c08e-4575-91bf-4c2995fe091e"
      },
      "outputs": [
        {
          "data": {
            "text/html": [
              "<div>\n",
              "<style scoped>\n",
              "    .dataframe tbody tr th:only-of-type {\n",
              "        vertical-align: middle;\n",
              "    }\n",
              "\n",
              "    .dataframe tbody tr th {\n",
              "        vertical-align: top;\n",
              "    }\n",
              "\n",
              "    .dataframe thead tr th {\n",
              "        text-align: left;\n",
              "    }\n",
              "</style>\n",
              "<table border=\"1\" class=\"dataframe\">\n",
              "  <thead>\n",
              "    <tr>\n",
              "      <th>Price</th>\n",
              "      <th>Close</th>\n",
              "      <th>High</th>\n",
              "      <th>Low</th>\n",
              "      <th>Open</th>\n",
              "      <th>Volume</th>\n",
              "      <th>RSI</th>\n",
              "      <th>MACD</th>\n",
              "      <th>MACD_Signal</th>\n",
              "      <th>EMA_50</th>\n",
              "      <th>SMA_20</th>\n",
              "      <th>StochRSI_K</th>\n",
              "      <th>StochRSI_D</th>\n",
              "    </tr>\n",
              "    <tr>\n",
              "      <th>Ticker</th>\n",
              "      <th>^NSEI</th>\n",
              "      <th>^NSEI</th>\n",
              "      <th>^NSEI</th>\n",
              "      <th>^NSEI</th>\n",
              "      <th>^NSEI</th>\n",
              "      <th></th>\n",
              "      <th></th>\n",
              "      <th></th>\n",
              "      <th></th>\n",
              "      <th></th>\n",
              "      <th></th>\n",
              "      <th></th>\n",
              "    </tr>\n",
              "  </thead>\n",
              "  <tbody>\n",
              "    <tr>\n",
              "      <th>2427</th>\n",
              "      <td>24654.699219</td>\n",
              "      <td>24868.599609</td>\n",
              "      <td>24629.449219</td>\n",
              "      <td>24818.550781</td>\n",
              "      <td>291500</td>\n",
              "      <td>46.075050</td>\n",
              "      <td>45.639697</td>\n",
              "      <td>83.119357</td>\n",
              "      <td>24917.459882</td>\n",
              "      <td>24974.642480</td>\n",
              "      <td>0.197778</td>\n",
              "      <td>0.371172</td>\n",
              "    </tr>\n",
              "    <tr>\n",
              "      <th>2428</th>\n",
              "      <td>24634.900391</td>\n",
              "      <td>24791.300781</td>\n",
              "      <td>24606.199219</td>\n",
              "      <td>24728.550781</td>\n",
              "      <td>394400</td>\n",
              "      <td>41.847517</td>\n",
              "      <td>11.738546</td>\n",
              "      <td>68.843195</td>\n",
              "      <td>24906.379118</td>\n",
              "      <td>24975.134961</td>\n",
              "      <td>0.068742</td>\n",
              "      <td>0.215889</td>\n",
              "    </tr>\n",
              "    <tr>\n",
              "      <th>2429</th>\n",
              "      <td>24611.099609</td>\n",
              "      <td>24731.800781</td>\n",
              "      <td>24587.699219</td>\n",
              "      <td>24691.949219</td>\n",
              "      <td>303000</td>\n",
              "      <td>36.618380</td>\n",
              "      <td>-16.854595</td>\n",
              "      <td>51.703637</td>\n",
              "      <td>24894.799529</td>\n",
              "      <td>24976.709961</td>\n",
              "      <td>0.000000</td>\n",
              "      <td>0.088840</td>\n",
              "    </tr>\n",
              "    <tr>\n",
              "      <th>2430</th>\n",
              "      <td>24836.300781</td>\n",
              "      <td>24867.949219</td>\n",
              "      <td>24605.949219</td>\n",
              "      <td>24620.550781</td>\n",
              "      <td>308900</td>\n",
              "      <td>44.525723</td>\n",
              "      <td>-21.099787</td>\n",
              "      <td>37.142952</td>\n",
              "      <td>24892.505461</td>\n",
              "      <td>24982.772461</td>\n",
              "      <td>0.047308</td>\n",
              "      <td>0.038683</td>\n",
              "    </tr>\n",
              "    <tr>\n",
              "      <th>2431</th>\n",
              "      <td>24894.250000</td>\n",
              "      <td>24904.800781</td>\n",
              "      <td>24747.550781</td>\n",
              "      <td>24759.550781</td>\n",
              "      <td>365900</td>\n",
              "      <td>42.649772</td>\n",
              "      <td>-19.562610</td>\n",
              "      <td>25.801840</td>\n",
              "      <td>24892.573874</td>\n",
              "      <td>24990.769922</td>\n",
              "      <td>0.083393</td>\n",
              "      <td>0.043567</td>\n",
              "    </tr>\n",
              "  </tbody>\n",
              "</table>\n",
              "</div>"
            ],
            "text/plain": [
              "Price          Close          High           Low          Open  Volume  \\\n",
              "Ticker         ^NSEI         ^NSEI         ^NSEI         ^NSEI   ^NSEI   \n",
              "2427    24654.699219  24868.599609  24629.449219  24818.550781  291500   \n",
              "2428    24634.900391  24791.300781  24606.199219  24728.550781  394400   \n",
              "2429    24611.099609  24731.800781  24587.699219  24691.949219  303000   \n",
              "2430    24836.300781  24867.949219  24605.949219  24620.550781  308900   \n",
              "2431    24894.250000  24904.800781  24747.550781  24759.550781  365900   \n",
              "\n",
              "Price         RSI       MACD MACD_Signal        EMA_50        SMA_20  \\\n",
              "Ticker                                                                 \n",
              "2427    46.075050  45.639697   83.119357  24917.459882  24974.642480   \n",
              "2428    41.847517  11.738546   68.843195  24906.379118  24975.134961   \n",
              "2429    36.618380 -16.854595   51.703637  24894.799529  24976.709961   \n",
              "2430    44.525723 -21.099787   37.142952  24892.505461  24982.772461   \n",
              "2431    42.649772 -19.562610   25.801840  24892.573874  24990.769922   \n",
              "\n",
              "Price  StochRSI_K StochRSI_D  \n",
              "Ticker                        \n",
              "2427     0.197778   0.371172  \n",
              "2428     0.068742   0.215889  \n",
              "2429     0.000000   0.088840  \n",
              "2430     0.047308   0.038683  \n",
              "2431     0.083393   0.043567  "
            ]
          },
          "execution_count": 4,
          "metadata": {},
          "output_type": "execute_result"
        }
      ],
      "source": [
        "df.tail()"
      ]
    },
    {
      "cell_type": "markdown",
      "id": "698524f2",
      "metadata": {
        "id": "698524f2"
      },
      "source": [
        "## 2. Data Exploraion & Visualization"
      ]
    },
    {
      "cell_type": "code",
      "execution_count": 5,
      "id": "92157440",
      "metadata": {
        "colab": {
          "base_uri": "https://localhost:8080/",
          "height": 475
        },
        "id": "92157440",
        "outputId": "f293e615-141e-4e18-c319-2d338549a7c6"
      },
      "outputs": [
        {
          "data": {
            "text/html": [
              "<div>\n",
              "<style scoped>\n",
              "    .dataframe tbody tr th:only-of-type {\n",
              "        vertical-align: middle;\n",
              "    }\n",
              "\n",
              "    .dataframe tbody tr th {\n",
              "        vertical-align: top;\n",
              "    }\n",
              "\n",
              "    .dataframe thead tr th {\n",
              "        text-align: left;\n",
              "    }\n",
              "</style>\n",
              "<table border=\"1\" class=\"dataframe\">\n",
              "  <thead>\n",
              "    <tr>\n",
              "      <th>Price</th>\n",
              "      <th>Close</th>\n",
              "      <th>High</th>\n",
              "      <th>Low</th>\n",
              "      <th>Open</th>\n",
              "      <th>Volume</th>\n",
              "      <th>RSI</th>\n",
              "      <th>MACD</th>\n",
              "      <th>MACD_Signal</th>\n",
              "      <th>EMA_50</th>\n",
              "      <th>SMA_20</th>\n",
              "      <th>StochRSI_K</th>\n",
              "      <th>StochRSI_D</th>\n",
              "    </tr>\n",
              "    <tr>\n",
              "      <th>Ticker</th>\n",
              "      <th>^NSEI</th>\n",
              "      <th>^NSEI</th>\n",
              "      <th>^NSEI</th>\n",
              "      <th>^NSEI</th>\n",
              "      <th>^NSEI</th>\n",
              "      <th></th>\n",
              "      <th></th>\n",
              "      <th></th>\n",
              "      <th></th>\n",
              "      <th></th>\n",
              "      <th></th>\n",
              "      <th></th>\n",
              "    </tr>\n",
              "  </thead>\n",
              "  <tbody>\n",
              "    <tr>\n",
              "      <th>0</th>\n",
              "      <td>7856.549805</td>\n",
              "      <td>7906.950195</td>\n",
              "      <td>7817.799805</td>\n",
              "      <td>7841.899902</td>\n",
              "      <td>151900</td>\n",
              "      <td>31.099098</td>\n",
              "      <td>-93.897040</td>\n",
              "      <td>-77.050095</td>\n",
              "      <td>8043.206921</td>\n",
              "      <td>7999.342529</td>\n",
              "      <td>0.398967</td>\n",
              "      <td>0.229263</td>\n",
              "    </tr>\n",
              "    <tr>\n",
              "      <th>1</th>\n",
              "      <td>7849.250000</td>\n",
              "      <td>7877.500000</td>\n",
              "      <td>7825.200195</td>\n",
              "      <td>7869.500000</td>\n",
              "      <td>127000</td>\n",
              "      <td>32.987687</td>\n",
              "      <td>-89.874382</td>\n",
              "      <td>-79.614953</td>\n",
              "      <td>8035.600767</td>\n",
              "      <td>7979.220020</td>\n",
              "      <td>0.601273</td>\n",
              "      <td>0.407129</td>\n",
              "    </tr>\n",
              "    <tr>\n",
              "      <th>2</th>\n",
              "      <td>7831.600098</td>\n",
              "      <td>7870.350098</td>\n",
              "      <td>7812.649902</td>\n",
              "      <td>7837.000000</td>\n",
              "      <td>130600</td>\n",
              "      <td>32.850910</td>\n",
              "      <td>-87.106488</td>\n",
              "      <td>-81.113260</td>\n",
              "      <td>8027.600741</td>\n",
              "      <td>7956.027515</td>\n",
              "      <td>0.678695</td>\n",
              "      <td>0.559645</td>\n",
              "    </tr>\n",
              "    <tr>\n",
              "      <th>3</th>\n",
              "      <td>7883.799805</td>\n",
              "      <td>7897.100098</td>\n",
              "      <td>7832.000000</td>\n",
              "      <td>7837.149902</td>\n",
              "      <td>219800</td>\n",
              "      <td>37.019332</td>\n",
              "      <td>-79.781163</td>\n",
              "      <td>-80.846840</td>\n",
              "      <td>8021.961489</td>\n",
              "      <td>7937.190015</td>\n",
              "      <td>0.736123</td>\n",
              "      <td>0.672030</td>\n",
              "    </tr>\n",
              "    <tr>\n",
              "      <th>4</th>\n",
              "      <td>7942.700195</td>\n",
              "      <td>7959.299805</td>\n",
              "      <td>7879.450195</td>\n",
              "      <td>7910.600098</td>\n",
              "      <td>150300</td>\n",
              "      <td>43.227284</td>\n",
              "      <td>-68.434155</td>\n",
              "      <td>-78.364303</td>\n",
              "      <td>8018.853203</td>\n",
              "      <td>7922.680005</td>\n",
              "      <td>0.836676</td>\n",
              "      <td>0.750498</td>\n",
              "    </tr>\n",
              "    <tr>\n",
              "      <th>...</th>\n",
              "      <td>...</td>\n",
              "      <td>...</td>\n",
              "      <td>...</td>\n",
              "      <td>...</td>\n",
              "      <td>...</td>\n",
              "      <td>...</td>\n",
              "      <td>...</td>\n",
              "      <td>...</td>\n",
              "      <td>...</td>\n",
              "      <td>...</td>\n",
              "      <td>...</td>\n",
              "      <td>...</td>\n",
              "    </tr>\n",
              "    <tr>\n",
              "      <th>2427</th>\n",
              "      <td>24654.699219</td>\n",
              "      <td>24868.599609</td>\n",
              "      <td>24629.449219</td>\n",
              "      <td>24818.550781</td>\n",
              "      <td>291500</td>\n",
              "      <td>46.075050</td>\n",
              "      <td>45.639697</td>\n",
              "      <td>83.119357</td>\n",
              "      <td>24917.459882</td>\n",
              "      <td>24974.642480</td>\n",
              "      <td>0.197778</td>\n",
              "      <td>0.371172</td>\n",
              "    </tr>\n",
              "    <tr>\n",
              "      <th>2428</th>\n",
              "      <td>24634.900391</td>\n",
              "      <td>24791.300781</td>\n",
              "      <td>24606.199219</td>\n",
              "      <td>24728.550781</td>\n",
              "      <td>394400</td>\n",
              "      <td>41.847517</td>\n",
              "      <td>11.738546</td>\n",
              "      <td>68.843195</td>\n",
              "      <td>24906.379118</td>\n",
              "      <td>24975.134961</td>\n",
              "      <td>0.068742</td>\n",
              "      <td>0.215889</td>\n",
              "    </tr>\n",
              "    <tr>\n",
              "      <th>2429</th>\n",
              "      <td>24611.099609</td>\n",
              "      <td>24731.800781</td>\n",
              "      <td>24587.699219</td>\n",
              "      <td>24691.949219</td>\n",
              "      <td>303000</td>\n",
              "      <td>36.618380</td>\n",
              "      <td>-16.854595</td>\n",
              "      <td>51.703637</td>\n",
              "      <td>24894.799529</td>\n",
              "      <td>24976.709961</td>\n",
              "      <td>0.000000</td>\n",
              "      <td>0.088840</td>\n",
              "    </tr>\n",
              "    <tr>\n",
              "      <th>2430</th>\n",
              "      <td>24836.300781</td>\n",
              "      <td>24867.949219</td>\n",
              "      <td>24605.949219</td>\n",
              "      <td>24620.550781</td>\n",
              "      <td>308900</td>\n",
              "      <td>44.525723</td>\n",
              "      <td>-21.099787</td>\n",
              "      <td>37.142952</td>\n",
              "      <td>24892.505461</td>\n",
              "      <td>24982.772461</td>\n",
              "      <td>0.047308</td>\n",
              "      <td>0.038683</td>\n",
              "    </tr>\n",
              "    <tr>\n",
              "      <th>2431</th>\n",
              "      <td>24894.250000</td>\n",
              "      <td>24904.800781</td>\n",
              "      <td>24747.550781</td>\n",
              "      <td>24759.550781</td>\n",
              "      <td>365900</td>\n",
              "      <td>42.649772</td>\n",
              "      <td>-19.562610</td>\n",
              "      <td>25.801840</td>\n",
              "      <td>24892.573874</td>\n",
              "      <td>24990.769922</td>\n",
              "      <td>0.083393</td>\n",
              "      <td>0.043567</td>\n",
              "    </tr>\n",
              "  </tbody>\n",
              "</table>\n",
              "<p>2432 rows × 12 columns</p>\n",
              "</div>"
            ],
            "text/plain": [
              "Price          Close          High           Low          Open  Volume  \\\n",
              "Ticker         ^NSEI         ^NSEI         ^NSEI         ^NSEI   ^NSEI   \n",
              "0        7856.549805   7906.950195   7817.799805   7841.899902  151900   \n",
              "1        7849.250000   7877.500000   7825.200195   7869.500000  127000   \n",
              "2        7831.600098   7870.350098   7812.649902   7837.000000  130600   \n",
              "3        7883.799805   7897.100098   7832.000000   7837.149902  219800   \n",
              "4        7942.700195   7959.299805   7879.450195   7910.600098  150300   \n",
              "...              ...           ...           ...           ...     ...   \n",
              "2427    24654.699219  24868.599609  24629.449219  24818.550781  291500   \n",
              "2428    24634.900391  24791.300781  24606.199219  24728.550781  394400   \n",
              "2429    24611.099609  24731.800781  24587.699219  24691.949219  303000   \n",
              "2430    24836.300781  24867.949219  24605.949219  24620.550781  308900   \n",
              "2431    24894.250000  24904.800781  24747.550781  24759.550781  365900   \n",
              "\n",
              "Price         RSI       MACD MACD_Signal        EMA_50        SMA_20  \\\n",
              "Ticker                                                                 \n",
              "0       31.099098 -93.897040  -77.050095   8043.206921   7999.342529   \n",
              "1       32.987687 -89.874382  -79.614953   8035.600767   7979.220020   \n",
              "2       32.850910 -87.106488  -81.113260   8027.600741   7956.027515   \n",
              "3       37.019332 -79.781163  -80.846840   8021.961489   7937.190015   \n",
              "4       43.227284 -68.434155  -78.364303   8018.853203   7922.680005   \n",
              "...           ...        ...         ...           ...           ...   \n",
              "2427    46.075050  45.639697   83.119357  24917.459882  24974.642480   \n",
              "2428    41.847517  11.738546   68.843195  24906.379118  24975.134961   \n",
              "2429    36.618380 -16.854595   51.703637  24894.799529  24976.709961   \n",
              "2430    44.525723 -21.099787   37.142952  24892.505461  24982.772461   \n",
              "2431    42.649772 -19.562610   25.801840  24892.573874  24990.769922   \n",
              "\n",
              "Price  StochRSI_K StochRSI_D  \n",
              "Ticker                        \n",
              "0        0.398967   0.229263  \n",
              "1        0.601273   0.407129  \n",
              "2        0.678695   0.559645  \n",
              "3        0.736123   0.672030  \n",
              "4        0.836676   0.750498  \n",
              "...           ...        ...  \n",
              "2427     0.197778   0.371172  \n",
              "2428     0.068742   0.215889  \n",
              "2429     0.000000   0.088840  \n",
              "2430     0.047308   0.038683  \n",
              "2431     0.083393   0.043567  \n",
              "\n",
              "[2432 rows x 12 columns]"
            ]
          },
          "execution_count": 5,
          "metadata": {},
          "output_type": "execute_result"
        }
      ],
      "source": [
        "df"
      ]
    },
    {
      "cell_type": "code",
      "execution_count": 6,
      "id": "ab072cf5",
      "metadata": {
        "colab": {
          "base_uri": "https://localhost:8080/",
          "height": 203
        },
        "id": "ab072cf5",
        "outputId": "ef1385f7-a501-43d2-f60e-7fdc9abf4756"
      },
      "outputs": [
        {
          "data": {
            "text/plain": [
              "pandas.core.frame.DataFrame"
            ]
          },
          "execution_count": 6,
          "metadata": {},
          "output_type": "execute_result"
        }
      ],
      "source": [
        "type(df)"
      ]
    },
    {
      "cell_type": "code",
      "execution_count": 7,
      "id": "3fb99ee6",
      "metadata": {
        "colab": {
          "base_uri": "https://localhost:8080/"
        },
        "id": "3fb99ee6",
        "outputId": "e2e7ffa3-71bf-4abe-d977-faf608054e46"
      },
      "outputs": [
        {
          "data": {
            "text/plain": [
              "(2432, 12)"
            ]
          },
          "execution_count": 7,
          "metadata": {},
          "output_type": "execute_result"
        }
      ],
      "source": [
        "df.shape"
      ]
    },
    {
      "cell_type": "code",
      "execution_count": 8,
      "id": "28a0c853",
      "metadata": {
        "colab": {
          "base_uri": "https://localhost:8080/",
          "height": 491
        },
        "id": "28a0c853",
        "outputId": "055dafb5-6d5d-4359-88e5-906ba598de76"
      },
      "outputs": [
        {
          "data": {
            "text/plain": [
              "Price        Ticker\n",
              "Close        ^NSEI     0\n",
              "High         ^NSEI     0\n",
              "Low          ^NSEI     0\n",
              "Open         ^NSEI     0\n",
              "Volume       ^NSEI     0\n",
              "RSI                    0\n",
              "MACD                   0\n",
              "MACD_Signal            0\n",
              "EMA_50                 0\n",
              "SMA_20                 0\n",
              "StochRSI_K             0\n",
              "StochRSI_D             0\n",
              "dtype: int64"
            ]
          },
          "execution_count": 8,
          "metadata": {},
          "output_type": "execute_result"
        }
      ],
      "source": [
        "df.isna().sum()"
      ]
    },
    {
      "cell_type": "code",
      "execution_count": 9,
      "id": "ddd2f1f3",
      "metadata": {
        "colab": {
          "base_uri": "https://localhost:8080/",
          "height": 351
        },
        "id": "ddd2f1f3",
        "outputId": "6eb076ce-2e15-451d-8651-b3fd42e916de"
      },
      "outputs": [
        {
          "data": {
            "text/html": [
              "<div>\n",
              "<style scoped>\n",
              "    .dataframe tbody tr th:only-of-type {\n",
              "        vertical-align: middle;\n",
              "    }\n",
              "\n",
              "    .dataframe tbody tr th {\n",
              "        vertical-align: top;\n",
              "    }\n",
              "\n",
              "    .dataframe thead tr th {\n",
              "        text-align: left;\n",
              "    }\n",
              "</style>\n",
              "<table border=\"1\" class=\"dataframe\">\n",
              "  <thead>\n",
              "    <tr>\n",
              "      <th>Price</th>\n",
              "      <th>Close</th>\n",
              "      <th>High</th>\n",
              "      <th>Low</th>\n",
              "      <th>Open</th>\n",
              "      <th>Volume</th>\n",
              "      <th>RSI</th>\n",
              "      <th>MACD</th>\n",
              "      <th>MACD_Signal</th>\n",
              "      <th>EMA_50</th>\n",
              "      <th>SMA_20</th>\n",
              "      <th>StochRSI_K</th>\n",
              "      <th>StochRSI_D</th>\n",
              "    </tr>\n",
              "    <tr>\n",
              "      <th>Ticker</th>\n",
              "      <th>^NSEI</th>\n",
              "      <th>^NSEI</th>\n",
              "      <th>^NSEI</th>\n",
              "      <th>^NSEI</th>\n",
              "      <th>^NSEI</th>\n",
              "      <th></th>\n",
              "      <th></th>\n",
              "      <th></th>\n",
              "      <th></th>\n",
              "      <th></th>\n",
              "      <th></th>\n",
              "      <th></th>\n",
              "    </tr>\n",
              "  </thead>\n",
              "  <tbody>\n",
              "    <tr>\n",
              "      <th>count</th>\n",
              "      <td>2432.000000</td>\n",
              "      <td>2432.000000</td>\n",
              "      <td>2432.000000</td>\n",
              "      <td>2432.000000</td>\n",
              "      <td>2.432000e+03</td>\n",
              "      <td>2432.000000</td>\n",
              "      <td>2432.000000</td>\n",
              "      <td>2432.000000</td>\n",
              "      <td>2432.000000</td>\n",
              "      <td>2432.000000</td>\n",
              "      <td>2432.000000</td>\n",
              "      <td>2432.000000</td>\n",
              "    </tr>\n",
              "    <tr>\n",
              "      <th>mean</th>\n",
              "      <td>14794.623937</td>\n",
              "      <td>14871.020927</td>\n",
              "      <td>14714.340512</td>\n",
              "      <td>14803.703556</td>\n",
              "      <td>3.359914e+05</td>\n",
              "      <td>55.689895</td>\n",
              "      <td>48.534742</td>\n",
              "      <td>48.372505</td>\n",
              "      <td>14624.959943</td>\n",
              "      <td>14728.027872</td>\n",
              "      <td>0.504413</td>\n",
              "      <td>0.504454</td>\n",
              "    </tr>\n",
              "    <tr>\n",
              "      <th>std</th>\n",
              "      <td>5462.560368</td>\n",
              "      <td>5483.384178</td>\n",
              "      <td>5440.430412</td>\n",
              "      <td>5462.712180</td>\n",
              "      <td>1.915573e+05</td>\n",
              "      <td>17.276158</td>\n",
              "      <td>163.086025</td>\n",
              "      <td>153.957486</td>\n",
              "      <td>5381.432906</td>\n",
              "      <td>5435.658909</td>\n",
              "      <td>0.340936</td>\n",
              "      <td>0.327986</td>\n",
              "    </tr>\n",
              "    <tr>\n",
              "      <th>min</th>\n",
              "      <td>6970.600098</td>\n",
              "      <td>7034.200195</td>\n",
              "      <td>6825.799805</td>\n",
              "      <td>7023.649902</td>\n",
              "      <td>0.000000e+00</td>\n",
              "      <td>2.022397</td>\n",
              "      <td>-1005.837460</td>\n",
              "      <td>-848.332753</td>\n",
              "      <td>7381.636166</td>\n",
              "      <td>7170.400024</td>\n",
              "      <td>0.000000</td>\n",
              "      <td>0.000000</td>\n",
              "    </tr>\n",
              "    <tr>\n",
              "      <th>25%</th>\n",
              "      <td>10368.600098</td>\n",
              "      <td>10417.462402</td>\n",
              "      <td>10314.112305</td>\n",
              "      <td>10362.212402</td>\n",
              "      <td>2.140250e+05</td>\n",
              "      <td>42.807808</td>\n",
              "      <td>-42.091564</td>\n",
              "      <td>-38.208693</td>\n",
              "      <td>10356.486320</td>\n",
              "      <td>10324.699976</td>\n",
              "      <td>0.179999</td>\n",
              "      <td>0.193967</td>\n",
              "    </tr>\n",
              "    <tr>\n",
              "      <th>50%</th>\n",
              "      <td>12336.424805</td>\n",
              "      <td>12364.700195</td>\n",
              "      <td>12282.274902</td>\n",
              "      <td>12330.750000</td>\n",
              "      <td>2.781500e+05</td>\n",
              "      <td>55.647517</td>\n",
              "      <td>60.123340</td>\n",
              "      <td>59.219902</td>\n",
              "      <td>12071.501173</td>\n",
              "      <td>12202.829932</td>\n",
              "      <td>0.494157</td>\n",
              "      <td>0.492813</td>\n",
              "    </tr>\n",
              "    <tr>\n",
              "      <th>75%</th>\n",
              "      <td>18344.925293</td>\n",
              "      <td>18428.874512</td>\n",
              "      <td>18265.862305</td>\n",
              "      <td>18362.787598</td>\n",
              "      <td>4.024750e+05</td>\n",
              "      <td>68.327084</td>\n",
              "      <td>142.191205</td>\n",
              "      <td>137.257304</td>\n",
              "      <td>18097.361880</td>\n",
              "      <td>18277.322559</td>\n",
              "      <td>0.844803</td>\n",
              "      <td>0.827181</td>\n",
              "    </tr>\n",
              "    <tr>\n",
              "      <th>max</th>\n",
              "      <td>26216.050781</td>\n",
              "      <td>26277.349609</td>\n",
              "      <td>26151.400391</td>\n",
              "      <td>26248.250000</td>\n",
              "      <td>1.811000e+06</td>\n",
              "      <td>100.000000</td>\n",
              "      <td>451.083428</td>\n",
              "      <td>413.985339</td>\n",
              "      <td>25066.740158</td>\n",
              "      <td>25508.082617</td>\n",
              "      <td>1.000000</td>\n",
              "      <td>1.000000</td>\n",
              "    </tr>\n",
              "  </tbody>\n",
              "</table>\n",
              "</div>"
            ],
            "text/plain": [
              "Price          Close          High           Low          Open        Volume  \\\n",
              "Ticker         ^NSEI         ^NSEI         ^NSEI         ^NSEI         ^NSEI   \n",
              "count    2432.000000   2432.000000   2432.000000   2432.000000  2.432000e+03   \n",
              "mean    14794.623937  14871.020927  14714.340512  14803.703556  3.359914e+05   \n",
              "std      5462.560368   5483.384178   5440.430412   5462.712180  1.915573e+05   \n",
              "min      6970.600098   7034.200195   6825.799805   7023.649902  0.000000e+00   \n",
              "25%     10368.600098  10417.462402  10314.112305  10362.212402  2.140250e+05   \n",
              "50%     12336.424805  12364.700195  12282.274902  12330.750000  2.781500e+05   \n",
              "75%     18344.925293  18428.874512  18265.862305  18362.787598  4.024750e+05   \n",
              "max     26216.050781  26277.349609  26151.400391  26248.250000  1.811000e+06   \n",
              "\n",
              "Price           RSI         MACD  MACD_Signal        EMA_50        SMA_20  \\\n",
              "Ticker                                                                      \n",
              "count   2432.000000  2432.000000  2432.000000   2432.000000   2432.000000   \n",
              "mean      55.689895    48.534742    48.372505  14624.959943  14728.027872   \n",
              "std       17.276158   163.086025   153.957486   5381.432906   5435.658909   \n",
              "min        2.022397 -1005.837460  -848.332753   7381.636166   7170.400024   \n",
              "25%       42.807808   -42.091564   -38.208693  10356.486320  10324.699976   \n",
              "50%       55.647517    60.123340    59.219902  12071.501173  12202.829932   \n",
              "75%       68.327084   142.191205   137.257304  18097.361880  18277.322559   \n",
              "max      100.000000   451.083428   413.985339  25066.740158  25508.082617   \n",
              "\n",
              "Price    StochRSI_K   StochRSI_D  \n",
              "Ticker                            \n",
              "count   2432.000000  2432.000000  \n",
              "mean       0.504413     0.504454  \n",
              "std        0.340936     0.327986  \n",
              "min        0.000000     0.000000  \n",
              "25%        0.179999     0.193967  \n",
              "50%        0.494157     0.492813  \n",
              "75%        0.844803     0.827181  \n",
              "max        1.000000     1.000000  "
            ]
          },
          "execution_count": 9,
          "metadata": {},
          "output_type": "execute_result"
        }
      ],
      "source": [
        "df.describe()"
      ]
    },
    {
      "cell_type": "code",
      "execution_count": 10,
      "id": "70af8a0b",
      "metadata": {
        "colab": {
          "base_uri": "https://localhost:8080/",
          "height": 257
        },
        "id": "70af8a0b",
        "outputId": "46afadcd-3df9-4a4d-b0a3-02a6970a4938"
      },
      "outputs": [
        {
          "data": {
            "text/html": [
              "<div>\n",
              "<style scoped>\n",
              "    .dataframe tbody tr th:only-of-type {\n",
              "        vertical-align: middle;\n",
              "    }\n",
              "\n",
              "    .dataframe tbody tr th {\n",
              "        vertical-align: top;\n",
              "    }\n",
              "\n",
              "    .dataframe thead tr th {\n",
              "        text-align: left;\n",
              "    }\n",
              "</style>\n",
              "<table border=\"1\" class=\"dataframe\">\n",
              "  <thead>\n",
              "    <tr>\n",
              "      <th>Price</th>\n",
              "      <th>Close</th>\n",
              "      <th>High</th>\n",
              "      <th>Low</th>\n",
              "      <th>Open</th>\n",
              "      <th>Volume</th>\n",
              "      <th>RSI</th>\n",
              "      <th>MACD</th>\n",
              "      <th>MACD_Signal</th>\n",
              "      <th>EMA_50</th>\n",
              "      <th>SMA_20</th>\n",
              "      <th>StochRSI_K</th>\n",
              "      <th>StochRSI_D</th>\n",
              "    </tr>\n",
              "    <tr>\n",
              "      <th>Ticker</th>\n",
              "      <th>^NSEI</th>\n",
              "      <th>^NSEI</th>\n",
              "      <th>^NSEI</th>\n",
              "      <th>^NSEI</th>\n",
              "      <th>^NSEI</th>\n",
              "      <th></th>\n",
              "      <th></th>\n",
              "      <th></th>\n",
              "      <th></th>\n",
              "      <th></th>\n",
              "      <th></th>\n",
              "      <th></th>\n",
              "    </tr>\n",
              "  </thead>\n",
              "  <tbody>\n",
              "    <tr>\n",
              "      <th>0</th>\n",
              "      <td>7856.549805</td>\n",
              "      <td>7906.950195</td>\n",
              "      <td>7817.799805</td>\n",
              "      <td>7841.899902</td>\n",
              "      <td>151900</td>\n",
              "      <td>31.099098</td>\n",
              "      <td>-93.897040</td>\n",
              "      <td>-77.050095</td>\n",
              "      <td>8043.206921</td>\n",
              "      <td>7999.342529</td>\n",
              "      <td>0.398967</td>\n",
              "      <td>0.229263</td>\n",
              "    </tr>\n",
              "    <tr>\n",
              "      <th>1</th>\n",
              "      <td>7849.250000</td>\n",
              "      <td>7877.500000</td>\n",
              "      <td>7825.200195</td>\n",
              "      <td>7869.500000</td>\n",
              "      <td>127000</td>\n",
              "      <td>32.987687</td>\n",
              "      <td>-89.874382</td>\n",
              "      <td>-79.614953</td>\n",
              "      <td>8035.600767</td>\n",
              "      <td>7979.220020</td>\n",
              "      <td>0.601273</td>\n",
              "      <td>0.407129</td>\n",
              "    </tr>\n",
              "    <tr>\n",
              "      <th>2</th>\n",
              "      <td>7831.600098</td>\n",
              "      <td>7870.350098</td>\n",
              "      <td>7812.649902</td>\n",
              "      <td>7837.000000</td>\n",
              "      <td>130600</td>\n",
              "      <td>32.850910</td>\n",
              "      <td>-87.106488</td>\n",
              "      <td>-81.113260</td>\n",
              "      <td>8027.600741</td>\n",
              "      <td>7956.027515</td>\n",
              "      <td>0.678695</td>\n",
              "      <td>0.559645</td>\n",
              "    </tr>\n",
              "    <tr>\n",
              "      <th>3</th>\n",
              "      <td>7883.799805</td>\n",
              "      <td>7897.100098</td>\n",
              "      <td>7832.000000</td>\n",
              "      <td>7837.149902</td>\n",
              "      <td>219800</td>\n",
              "      <td>37.019332</td>\n",
              "      <td>-79.781163</td>\n",
              "      <td>-80.846840</td>\n",
              "      <td>8021.961489</td>\n",
              "      <td>7937.190015</td>\n",
              "      <td>0.736123</td>\n",
              "      <td>0.672030</td>\n",
              "    </tr>\n",
              "    <tr>\n",
              "      <th>4</th>\n",
              "      <td>7942.700195</td>\n",
              "      <td>7959.299805</td>\n",
              "      <td>7879.450195</td>\n",
              "      <td>7910.600098</td>\n",
              "      <td>150300</td>\n",
              "      <td>43.227284</td>\n",
              "      <td>-68.434155</td>\n",
              "      <td>-78.364303</td>\n",
              "      <td>8018.853203</td>\n",
              "      <td>7922.680005</td>\n",
              "      <td>0.836676</td>\n",
              "      <td>0.750498</td>\n",
              "    </tr>\n",
              "  </tbody>\n",
              "</table>\n",
              "</div>"
            ],
            "text/plain": [
              "Price         Close         High          Low         Open  Volume        RSI  \\\n",
              "Ticker        ^NSEI        ^NSEI        ^NSEI        ^NSEI   ^NSEI              \n",
              "0       7856.549805  7906.950195  7817.799805  7841.899902  151900  31.099098   \n",
              "1       7849.250000  7877.500000  7825.200195  7869.500000  127000  32.987687   \n",
              "2       7831.600098  7870.350098  7812.649902  7837.000000  130600  32.850910   \n",
              "3       7883.799805  7897.100098  7832.000000  7837.149902  219800  37.019332   \n",
              "4       7942.700195  7959.299805  7879.450195  7910.600098  150300  43.227284   \n",
              "\n",
              "Price        MACD MACD_Signal       EMA_50       SMA_20 StochRSI_K StochRSI_D  \n",
              "Ticker                                                                         \n",
              "0      -93.897040  -77.050095  8043.206921  7999.342529   0.398967   0.229263  \n",
              "1      -89.874382  -79.614953  8035.600767  7979.220020   0.601273   0.407129  \n",
              "2      -87.106488  -81.113260  8027.600741  7956.027515   0.678695   0.559645  \n",
              "3      -79.781163  -80.846840  8021.961489  7937.190015   0.736123   0.672030  \n",
              "4      -68.434155  -78.364303  8018.853203  7922.680005   0.836676   0.750498  "
            ]
          },
          "execution_count": 10,
          "metadata": {},
          "output_type": "execute_result"
        }
      ],
      "source": [
        "df.head()"
      ]
    },
    {
      "cell_type": "code",
      "execution_count": 11,
      "id": "45737685",
      "metadata": {
        "id": "45737685"
      },
      "outputs": [],
      "source": [
        "df = df.reset_index()"
      ]
    },
    {
      "cell_type": "code",
      "execution_count": 12,
      "id": "f49b34b2",
      "metadata": {
        "colab": {
          "base_uri": "https://localhost:8080/",
          "height": 257
        },
        "id": "f49b34b2",
        "outputId": "bb0d7372-3ddf-485c-a5d2-2d2859bbd364"
      },
      "outputs": [
        {
          "data": {
            "text/html": [
              "<div>\n",
              "<style scoped>\n",
              "    .dataframe tbody tr th:only-of-type {\n",
              "        vertical-align: middle;\n",
              "    }\n",
              "\n",
              "    .dataframe tbody tr th {\n",
              "        vertical-align: top;\n",
              "    }\n",
              "\n",
              "    .dataframe thead tr th {\n",
              "        text-align: left;\n",
              "    }\n",
              "</style>\n",
              "<table border=\"1\" class=\"dataframe\">\n",
              "  <thead>\n",
              "    <tr>\n",
              "      <th>Price</th>\n",
              "      <th>index</th>\n",
              "      <th>Close</th>\n",
              "      <th>High</th>\n",
              "      <th>Low</th>\n",
              "      <th>Open</th>\n",
              "      <th>Volume</th>\n",
              "      <th>RSI</th>\n",
              "      <th>MACD</th>\n",
              "      <th>MACD_Signal</th>\n",
              "      <th>EMA_50</th>\n",
              "      <th>SMA_20</th>\n",
              "      <th>StochRSI_K</th>\n",
              "      <th>StochRSI_D</th>\n",
              "    </tr>\n",
              "    <tr>\n",
              "      <th>Ticker</th>\n",
              "      <th></th>\n",
              "      <th>^NSEI</th>\n",
              "      <th>^NSEI</th>\n",
              "      <th>^NSEI</th>\n",
              "      <th>^NSEI</th>\n",
              "      <th>^NSEI</th>\n",
              "      <th></th>\n",
              "      <th></th>\n",
              "      <th></th>\n",
              "      <th></th>\n",
              "      <th></th>\n",
              "      <th></th>\n",
              "      <th></th>\n",
              "    </tr>\n",
              "  </thead>\n",
              "  <tbody>\n",
              "    <tr>\n",
              "      <th>0</th>\n",
              "      <td>0</td>\n",
              "      <td>7856.549805</td>\n",
              "      <td>7906.950195</td>\n",
              "      <td>7817.799805</td>\n",
              "      <td>7841.899902</td>\n",
              "      <td>151900</td>\n",
              "      <td>31.099098</td>\n",
              "      <td>-93.897040</td>\n",
              "      <td>-77.050095</td>\n",
              "      <td>8043.206921</td>\n",
              "      <td>7999.342529</td>\n",
              "      <td>0.398967</td>\n",
              "      <td>0.229263</td>\n",
              "    </tr>\n",
              "    <tr>\n",
              "      <th>1</th>\n",
              "      <td>1</td>\n",
              "      <td>7849.250000</td>\n",
              "      <td>7877.500000</td>\n",
              "      <td>7825.200195</td>\n",
              "      <td>7869.500000</td>\n",
              "      <td>127000</td>\n",
              "      <td>32.987687</td>\n",
              "      <td>-89.874382</td>\n",
              "      <td>-79.614953</td>\n",
              "      <td>8035.600767</td>\n",
              "      <td>7979.220020</td>\n",
              "      <td>0.601273</td>\n",
              "      <td>0.407129</td>\n",
              "    </tr>\n",
              "    <tr>\n",
              "      <th>2</th>\n",
              "      <td>2</td>\n",
              "      <td>7831.600098</td>\n",
              "      <td>7870.350098</td>\n",
              "      <td>7812.649902</td>\n",
              "      <td>7837.000000</td>\n",
              "      <td>130600</td>\n",
              "      <td>32.850910</td>\n",
              "      <td>-87.106488</td>\n",
              "      <td>-81.113260</td>\n",
              "      <td>8027.600741</td>\n",
              "      <td>7956.027515</td>\n",
              "      <td>0.678695</td>\n",
              "      <td>0.559645</td>\n",
              "    </tr>\n",
              "    <tr>\n",
              "      <th>3</th>\n",
              "      <td>3</td>\n",
              "      <td>7883.799805</td>\n",
              "      <td>7897.100098</td>\n",
              "      <td>7832.000000</td>\n",
              "      <td>7837.149902</td>\n",
              "      <td>219800</td>\n",
              "      <td>37.019332</td>\n",
              "      <td>-79.781163</td>\n",
              "      <td>-80.846840</td>\n",
              "      <td>8021.961489</td>\n",
              "      <td>7937.190015</td>\n",
              "      <td>0.736123</td>\n",
              "      <td>0.672030</td>\n",
              "    </tr>\n",
              "    <tr>\n",
              "      <th>4</th>\n",
              "      <td>4</td>\n",
              "      <td>7942.700195</td>\n",
              "      <td>7959.299805</td>\n",
              "      <td>7879.450195</td>\n",
              "      <td>7910.600098</td>\n",
              "      <td>150300</td>\n",
              "      <td>43.227284</td>\n",
              "      <td>-68.434155</td>\n",
              "      <td>-78.364303</td>\n",
              "      <td>8018.853203</td>\n",
              "      <td>7922.680005</td>\n",
              "      <td>0.836676</td>\n",
              "      <td>0.750498</td>\n",
              "    </tr>\n",
              "  </tbody>\n",
              "</table>\n",
              "</div>"
            ],
            "text/plain": [
              "Price  index        Close         High          Low         Open  Volume  \\\n",
              "Ticker              ^NSEI        ^NSEI        ^NSEI        ^NSEI   ^NSEI   \n",
              "0          0  7856.549805  7906.950195  7817.799805  7841.899902  151900   \n",
              "1          1  7849.250000  7877.500000  7825.200195  7869.500000  127000   \n",
              "2          2  7831.600098  7870.350098  7812.649902  7837.000000  130600   \n",
              "3          3  7883.799805  7897.100098  7832.000000  7837.149902  219800   \n",
              "4          4  7942.700195  7959.299805  7879.450195  7910.600098  150300   \n",
              "\n",
              "Price         RSI       MACD MACD_Signal       EMA_50       SMA_20 StochRSI_K  \\\n",
              "Ticker                                                                          \n",
              "0       31.099098 -93.897040  -77.050095  8043.206921  7999.342529   0.398967   \n",
              "1       32.987687 -89.874382  -79.614953  8035.600767  7979.220020   0.601273   \n",
              "2       32.850910 -87.106488  -81.113260  8027.600741  7956.027515   0.678695   \n",
              "3       37.019332 -79.781163  -80.846840  8021.961489  7937.190015   0.736123   \n",
              "4       43.227284 -68.434155  -78.364303  8018.853203  7922.680005   0.836676   \n",
              "\n",
              "Price  StochRSI_D  \n",
              "Ticker             \n",
              "0        0.229263  \n",
              "1        0.407129  \n",
              "2        0.559645  \n",
              "3        0.672030  \n",
              "4        0.750498  "
            ]
          },
          "execution_count": 12,
          "metadata": {},
          "output_type": "execute_result"
        }
      ],
      "source": [
        "df.head()"
      ]
    },
    {
      "cell_type": "code",
      "execution_count": 13,
      "id": "02bd64af",
      "metadata": {
        "colab": {
          "base_uri": "https://localhost:8080/",
          "height": 469
        },
        "id": "02bd64af",
        "outputId": "4282a608-c183-4299-a955-e4d225c1c2ae"
      },
      "outputs": [
        {
          "data": {
            "text/plain": [
              "Text(0, 0.5, 'Close price')"
            ]
          },
          "execution_count": 13,
          "metadata": {},
          "output_type": "execute_result"
        },
        {
          "data": {
            "image/png": "[encoded data removed]",
            "text/plain": [
              "<Figure size 1200x500 with 1 Axes>"
            ]
          },
          "metadata": {},
          "output_type": "display_data"
        }
      ],
      "source": [
        "plt.figure(figsize=(12,5))\n",
        "plt.plot(df.Close)\n",
        "plt.title(ticker)\n",
        "plt.xlabel('Days')\n",
        "plt.ylabel('Close price')"
      ]
    },
    {
      "cell_type": "markdown",
      "id": "ccf82d9f",
      "metadata": {
        "id": "ccf82d9f"
      },
      "source": [
        "## 3. Feature Engineering"
      ]
    },
    {
      "cell_type": "code",
      "execution_count": 14,
      "id": "aUxyAGHfHcCB",
      "metadata": {
        "id": "aUxyAGHfHcCB"
      },
      "outputs": [],
      "source": [
        "features = ['Open','Close', 'RSI', 'MACD', 'MACD_Signal', 'EMA_50', 'SMA_20', 'StochRSI_K', 'StochRSI_D']\n",
        "data_to_process = df[features]"
      ]
    },
    {
      "cell_type": "code",
      "execution_count": 15,
      "id": "5294a2f3",
      "metadata": {
        "id": "5294a2f3"
      },
      "outputs": [],
      "source": [
        "train_size = int(len(data_to_process) * 0.7)\n",
        "data_training = data_to_process.iloc[:train_size]\n",
        "data_testing = data_to_process.iloc[train_size:]"
      ]
    },
    {
      "cell_type": "code",
      "execution_count": 16,
      "id": "3feebb0f",
      "metadata": {
        "colab": {
          "base_uri": "https://localhost:8080/",
          "height": 237
        },
        "id": "3feebb0f",
        "outputId": "2636dac2-c7cb-406a-c3a5-0f3620ce44c0"
      },
      "outputs": [
        {
          "data": {
            "text/html": [
              "<div>\n",
              "<style scoped>\n",
              "    .dataframe tbody tr th:only-of-type {\n",
              "        vertical-align: middle;\n",
              "    }\n",
              "\n",
              "    .dataframe tbody tr th {\n",
              "        vertical-align: top;\n",
              "    }\n",
              "\n",
              "    .dataframe thead tr th {\n",
              "        text-align: left;\n",
              "    }\n",
              "</style>\n",
              "<table border=\"1\" class=\"dataframe\">\n",
              "  <thead>\n",
              "    <tr>\n",
              "      <th>Price</th>\n",
              "      <th>Open</th>\n",
              "      <th>Close</th>\n",
              "      <th>RSI</th>\n",
              "      <th>MACD</th>\n",
              "      <th>MACD_Signal</th>\n",
              "      <th>EMA_50</th>\n",
              "      <th>SMA_20</th>\n",
              "      <th>StochRSI_K</th>\n",
              "      <th>StochRSI_D</th>\n",
              "    </tr>\n",
              "    <tr>\n",
              "      <th>Ticker</th>\n",
              "      <th>^NSEI</th>\n",
              "      <th>^NSEI</th>\n",
              "      <th></th>\n",
              "      <th></th>\n",
              "      <th></th>\n",
              "      <th></th>\n",
              "      <th></th>\n",
              "      <th></th>\n",
              "      <th></th>\n",
              "    </tr>\n",
              "  </thead>\n",
              "  <tbody>\n",
              "    <tr>\n",
              "      <th>0</th>\n",
              "      <td>7841.899902</td>\n",
              "      <td>7856.549805</td>\n",
              "      <td>31.099098</td>\n",
              "      <td>-93.897040</td>\n",
              "      <td>-77.050095</td>\n",
              "      <td>8043.206921</td>\n",
              "      <td>7999.342529</td>\n",
              "      <td>0.398967</td>\n",
              "      <td>0.229263</td>\n",
              "    </tr>\n",
              "    <tr>\n",
              "      <th>1</th>\n",
              "      <td>7869.500000</td>\n",
              "      <td>7849.250000</td>\n",
              "      <td>32.987687</td>\n",
              "      <td>-89.874382</td>\n",
              "      <td>-79.614953</td>\n",
              "      <td>8035.600767</td>\n",
              "      <td>7979.220020</td>\n",
              "      <td>0.601273</td>\n",
              "      <td>0.407129</td>\n",
              "    </tr>\n",
              "    <tr>\n",
              "      <th>2</th>\n",
              "      <td>7837.000000</td>\n",
              "      <td>7831.600098</td>\n",
              "      <td>32.850910</td>\n",
              "      <td>-87.106488</td>\n",
              "      <td>-81.113260</td>\n",
              "      <td>8027.600741</td>\n",
              "      <td>7956.027515</td>\n",
              "      <td>0.678695</td>\n",
              "      <td>0.559645</td>\n",
              "    </tr>\n",
              "    <tr>\n",
              "      <th>3</th>\n",
              "      <td>7837.149902</td>\n",
              "      <td>7883.799805</td>\n",
              "      <td>37.019332</td>\n",
              "      <td>-79.781163</td>\n",
              "      <td>-80.846840</td>\n",
              "      <td>8021.961489</td>\n",
              "      <td>7937.190015</td>\n",
              "      <td>0.736123</td>\n",
              "      <td>0.672030</td>\n",
              "    </tr>\n",
              "    <tr>\n",
              "      <th>4</th>\n",
              "      <td>7910.600098</td>\n",
              "      <td>7942.700195</td>\n",
              "      <td>43.227284</td>\n",
              "      <td>-68.434155</td>\n",
              "      <td>-78.364303</td>\n",
              "      <td>8018.853203</td>\n",
              "      <td>7922.680005</td>\n",
              "      <td>0.836676</td>\n",
              "      <td>0.750498</td>\n",
              "    </tr>\n",
              "  </tbody>\n",
              "</table>\n",
              "</div>"
            ],
            "text/plain": [
              "Price          Open        Close        RSI       MACD MACD_Signal  \\\n",
              "Ticker        ^NSEI        ^NSEI                                     \n",
              "0       7841.899902  7856.549805  31.099098 -93.897040  -77.050095   \n",
              "1       7869.500000  7849.250000  32.987687 -89.874382  -79.614953   \n",
              "2       7837.000000  7831.600098  32.850910 -87.106488  -81.113260   \n",
              "3       7837.149902  7883.799805  37.019332 -79.781163  -80.846840   \n",
              "4       7910.600098  7942.700195  43.227284 -68.434155  -78.364303   \n",
              "\n",
              "Price        EMA_50       SMA_20 StochRSI_K StochRSI_D  \n",
              "Ticker                                                  \n",
              "0       8043.206921  7999.342529   0.398967   0.229263  \n",
              "1       8035.600767  7979.220020   0.601273   0.407129  \n",
              "2       8027.600741  7956.027515   0.678695   0.559645  \n",
              "3       8021.961489  7937.190015   0.736123   0.672030  \n",
              "4       8018.853203  7922.680005   0.836676   0.750498  "
            ]
          },
          "execution_count": 16,
          "metadata": {},
          "output_type": "execute_result"
        }
      ],
      "source": [
        "data_training.head()"
      ]
    },
    {
      "cell_type": "code",
      "execution_count": 17,
      "id": "weM8_VEyhK7n",
      "metadata": {
        "colab": {
          "base_uri": "https://localhost:8080/",
          "height": 257
        },
        "id": "weM8_VEyhK7n",
        "outputId": "f14d91a6-90e4-43f9-aeab-56ce975e3df8"
      },
      "outputs": [
        {
          "data": {
            "text/html": [
              "<div>\n",
              "<style scoped>\n",
              "    .dataframe tbody tr th:only-of-type {\n",
              "        vertical-align: middle;\n",
              "    }\n",
              "\n",
              "    .dataframe tbody tr th {\n",
              "        vertical-align: top;\n",
              "    }\n",
              "\n",
              "    .dataframe thead tr th {\n",
              "        text-align: left;\n",
              "    }\n",
              "</style>\n",
              "<table border=\"1\" class=\"dataframe\">\n",
              "  <thead>\n",
              "    <tr>\n",
              "      <th>Price</th>\n",
              "      <th>Open</th>\n",
              "      <th>Close</th>\n",
              "      <th>RSI</th>\n",
              "      <th>MACD</th>\n",
              "      <th>MACD_Signal</th>\n",
              "      <th>EMA_50</th>\n",
              "      <th>SMA_20</th>\n",
              "      <th>StochRSI_K</th>\n",
              "      <th>StochRSI_D</th>\n",
              "    </tr>\n",
              "    <tr>\n",
              "      <th>Ticker</th>\n",
              "      <th>^NSEI</th>\n",
              "      <th>^NSEI</th>\n",
              "      <th></th>\n",
              "      <th></th>\n",
              "      <th></th>\n",
              "      <th></th>\n",
              "      <th></th>\n",
              "      <th></th>\n",
              "      <th></th>\n",
              "    </tr>\n",
              "  </thead>\n",
              "  <tbody>\n",
              "    <tr>\n",
              "      <th>1702</th>\n",
              "      <td>17423.099609</td>\n",
              "      <td>17563.949219</td>\n",
              "      <td>67.973582</td>\n",
              "      <td>-3.689133</td>\n",
              "      <td>-60.673208</td>\n",
              "      <td>17278.475967</td>\n",
              "      <td>17199.157520</td>\n",
              "      <td>1.000000</td>\n",
              "      <td>1.000000</td>\n",
              "    </tr>\n",
              "    <tr>\n",
              "      <th>1703</th>\n",
              "      <td>17622.849609</td>\n",
              "      <td>17576.300781</td>\n",
              "      <td>63.306576</td>\n",
              "      <td>16.799915</td>\n",
              "      <td>-45.178583</td>\n",
              "      <td>17290.155372</td>\n",
              "      <td>17196.482520</td>\n",
              "      <td>0.964334</td>\n",
              "      <td>0.988111</td>\n",
              "    </tr>\n",
              "    <tr>\n",
              "      <th>1704</th>\n",
              "      <td>17736.349609</td>\n",
              "      <td>17730.750000</td>\n",
              "      <td>73.982035</td>\n",
              "      <td>44.981871</td>\n",
              "      <td>-27.146492</td>\n",
              "      <td>17307.433593</td>\n",
              "      <td>17216.652539</td>\n",
              "      <td>0.964334</td>\n",
              "      <td>0.976223</td>\n",
              "    </tr>\n",
              "    <tr>\n",
              "      <th>1705</th>\n",
              "      <td>17808.300781</td>\n",
              "      <td>17656.349609</td>\n",
              "      <td>63.211914</td>\n",
              "      <td>60.614063</td>\n",
              "      <td>-9.594381</td>\n",
              "      <td>17321.116574</td>\n",
              "      <td>17248.654980</td>\n",
              "      <td>0.879444</td>\n",
              "      <td>0.936037</td>\n",
              "    </tr>\n",
              "    <tr>\n",
              "      <th>1706</th>\n",
              "      <td>17771.400391</td>\n",
              "      <td>17736.949219</td>\n",
              "      <td>63.790417</td>\n",
              "      <td>78.600347</td>\n",
              "      <td>8.044564</td>\n",
              "      <td>17337.423736</td>\n",
              "      <td>17285.132422</td>\n",
              "      <td>0.834779</td>\n",
              "      <td>0.892852</td>\n",
              "    </tr>\n",
              "  </tbody>\n",
              "</table>\n",
              "</div>"
            ],
            "text/plain": [
              "Price           Open         Close        RSI       MACD MACD_Signal  \\\n",
              "Ticker         ^NSEI         ^NSEI                                     \n",
              "1702    17423.099609  17563.949219  67.973582  -3.689133  -60.673208   \n",
              "1703    17622.849609  17576.300781  63.306576  16.799915  -45.178583   \n",
              "1704    17736.349609  17730.750000  73.982035  44.981871  -27.146492   \n",
              "1705    17808.300781  17656.349609  63.211914  60.614063   -9.594381   \n",
              "1706    17771.400391  17736.949219  63.790417  78.600347    8.044564   \n",
              "\n",
              "Price         EMA_50        SMA_20 StochRSI_K StochRSI_D  \n",
              "Ticker                                                    \n",
              "1702    17278.475967  17199.157520   1.000000   1.000000  \n",
              "1703    17290.155372  17196.482520   0.964334   0.988111  \n",
              "1704    17307.433593  17216.652539   0.964334   0.976223  \n",
              "1705    17321.116574  17248.654980   0.879444   0.936037  \n",
              "1706    17337.423736  17285.132422   0.834779   0.892852  "
            ]
          },
          "execution_count": 17,
          "metadata": {},
          "output_type": "execute_result"
        }
      ],
      "source": [
        "data_testing.head()"
      ]
    },
    {
      "cell_type": "markdown",
      "id": "5c518f2f",
      "metadata": {
        "id": "5c518f2f"
      },
      "source": [
        "## 4. Data Preprocessing"
      ]
    },
    {
      "cell_type": "code",
      "execution_count": 18,
      "id": "4a34c3e4",
      "metadata": {
        "colab": {
          "base_uri": "https://localhost:8080/"
        },
        "id": "4a34c3e4",
        "outputId": "4c2edca2-0a7e-413b-a616-1d272ce8bf47"
      },
      "outputs": [
        {
          "data": {
            "text/plain": [
              "(2432, 13)"
            ]
          },
          "execution_count": 18,
          "metadata": {},
          "output_type": "execute_result"
        }
      ],
      "source": [
        "df.shape"
      ]
    },
    {
      "cell_type": "code",
      "execution_count": 19,
      "id": "25aeed55",
      "metadata": {
        "id": "25aeed55"
      },
      "outputs": [],
      "source": [
        "# Spliting data into Traning & Testing datasets\n",
        "train_size = int(len(data_to_process) * 0.7)\n",
        "data_training = data_to_process.iloc[:train_size]\n",
        "data_testing = data_to_process.iloc[train_size:]"
      ]
    },
    {
      "cell_type": "code",
      "execution_count": 20,
      "id": "66657bbc",
      "metadata": {
        "id": "66657bbc"
      },
      "outputs": [],
      "source": [
        "# Scaling down data between 0 and 1\n",
        "from sklearn.preprocessing import MinMaxScaler\n",
        "scaler = MinMaxScaler(feature_range=(0,1))"
      ]
    },
    {
      "cell_type": "code",
      "execution_count": 21,
      "id": "73f7141a",
      "metadata": {
        "id": "73f7141a"
      },
      "outputs": [],
      "source": [
        "scaler = MinMaxScaler(feature_range=(0, 1))\n",
        "data_training_array = scaler.fit_transform(data_training)"
      ]
    },
    {
      "cell_type": "code",
      "execution_count": 22,
      "id": "f4db5e00",
      "metadata": {
        "colab": {
          "base_uri": "https://localhost:8080/"
        },
        "id": "f4db5e00",
        "outputId": "741e7dbf-6289-40ee-cd13-05a8395cd2d0"
      },
      "outputs": [
        {
          "data": {
            "text/plain": [
              "(1702, 9)"
            ]
          },
          "execution_count": 22,
          "metadata": {},
          "output_type": "execute_result"
        }
      ],
      "source": [
        "data_training_array.shape"
      ]
    },
    {
      "cell_type": "markdown",
      "id": "31b55dd1",
      "metadata": {
        "id": "31b55dd1"
      },
      "source": [
        "## 5. Sequence Creation"
      ]
    },
    {
      "cell_type": "code",
      "execution_count": 23,
      "id": "c72fab4f",
      "metadata": {
        "id": "c72fab4f"
      },
      "outputs": [],
      "source": [
        "x_train = []\n",
        "y_train = []\n",
        "time_step = 100\n",
        "\n",
        "# Get the indices for 'Close' and 'Open' from the features list\n",
        "close_index = features.index('Close')\n",
        "open_index = features.index('Open')\n",
        "\n",
        "for i in range(time_step, data_training_array.shape[0]):\n",
        "    x_train.append(data_training_array[i-time_step: i])\n",
        "    y_train.append(data_training_array[i, [close_index, open_index]])\n",
        "\n",
        "x_train, y_train = np.array(x_train), np.array(y_train)"
      ]
    },
    {
      "cell_type": "code",
      "execution_count": 24,
      "id": "35a3fa44",
      "metadata": {
        "colab": {
          "base_uri": "https://localhost:8080/"
        },
        "id": "35a3fa44",
        "outputId": "860d3915-5062-490e-cb5b-7ffcb193778e"
      },
      "outputs": [
        {
          "data": {
            "text/plain": [
              "array([[[0.07066856, 0.07699592, 0.26284874, ..., 0.07592164,\n",
              "         0.39896698, 0.22926266],\n",
              "        [0.07305225, 0.07636151, 0.28317743, ..., 0.07407865,\n",
              "         0.60127279, 0.40712912],\n",
              "        [0.07024537, 0.07482759, 0.28170517, ..., 0.07195449,\n",
              "         0.67869472, 0.55964483],\n",
              "        ...,\n",
              "        [0.07639027, 0.08204964, 0.58039615, ..., 0.04563652,\n",
              "         0.28102159, 0.13160967],\n",
              "        [0.08000898, 0.08205397, 0.65977233, ..., 0.04754156,\n",
              "         0.61435492, 0.33176412],\n",
              "        [0.0803199 , 0.0818193 , 0.6735445 , ..., 0.04937104,\n",
              "         0.86166397, 0.58568016]],\n",
              "\n",
              "       [[0.07305225, 0.07636151, 0.28317743, ..., 0.07407865,\n",
              "         0.60127279, 0.40712912],\n",
              "        [0.07024537, 0.07482759, 0.28170517, ..., 0.07195449,\n",
              "         0.67869472, 0.55964483],\n",
              "        [0.07025832, 0.07936415, 0.3265739 , ..., 0.07022919,\n",
              "         0.7361227 , 0.67203007],\n",
              "        ...,\n",
              "        [0.08000898, 0.08205397, 0.65977233, ..., 0.04754156,\n",
              "         0.61435492, 0.33176412],\n",
              "        [0.0803199 , 0.0818193 , 0.6735445 , ..., 0.04937104,\n",
              "         0.86166397, 0.58568016],\n",
              "        [0.07497819, 0.08071122, 0.59379576, ..., 0.05072174,\n",
              "         0.86958626, 0.78186838]],\n",
              "\n",
              "       [[0.07024537, 0.07482759, 0.28170517, ..., 0.07195449,\n",
              "         0.67869472, 0.55964483],\n",
              "        [0.07025832, 0.07936415, 0.3265739 , ..., 0.07022919,\n",
              "         0.7361227 , 0.67203007],\n",
              "        [0.07660188, 0.08448305, 0.39339605, ..., 0.06890023,\n",
              "         0.83667558, 0.75049767],\n",
              "        ...,\n",
              "        [0.0803199 , 0.0818193 , 0.6735445 , ..., 0.04937104,\n",
              "         0.86166397, 0.58568016],\n",
              "        [0.07497819, 0.08071122, 0.59379576, ..., 0.05072174,\n",
              "         0.86958626, 0.78186838],\n",
              "        [0.07523728, 0.07686555, 0.55185885, ..., 0.05141232,\n",
              "         0.67059277, 0.80061433]],\n",
              "\n",
              "       ...,\n",
              "\n",
              "       [[0.79472654, 0.79560158, 0.34395808, ..., 0.84754148,\n",
              "         0.95496642, 0.7175811 ],\n",
              "        [0.79220465, 0.78696724, 0.32627165, ..., 0.84216064,\n",
              "         0.94831602, 0.85080681],\n",
              "        [0.78431519, 0.79951243, 0.41217678, ..., 0.83818456,\n",
              "         0.97302577, 0.9587694 ],\n",
              "        ...,\n",
              "        [0.86381901, 0.88237457, 0.32810269, ..., 0.9299398 ,\n",
              "         0.40917062, 0.46932832],\n",
              "        [0.86915629, 0.8728799 , 0.32455938, ..., 0.92540891,\n",
              "         0.42817773, 0.43392362],\n",
              "        [0.88944796, 0.88777151, 0.43173648, ..., 0.92224132,\n",
              "         0.68350454, 0.50695096]],\n",
              "\n",
              "       [[0.79220465, 0.78696724, 0.32627165, ..., 0.84216064,\n",
              "         0.94831602, 0.85080681],\n",
              "        [0.78431519, 0.79951243, 0.41217678, ..., 0.83818456,\n",
              "         0.97302577, 0.9587694 ],\n",
              "        [0.80086279, 0.8153557 , 0.47732063, ..., 0.83409696,\n",
              "         0.97302577, 0.96478919],\n",
              "        ...,\n",
              "        [0.86915629, 0.8728799 , 0.32455938, ..., 0.92540891,\n",
              "         0.42817773, 0.43392362],\n",
              "        [0.88944796, 0.88777151, 0.43173648, ..., 0.92224132,\n",
              "         0.68350454, 0.50695096],\n",
              "        [0.87411809, 0.89873072, 0.54499359, ..., 0.9212382 ,\n",
              "         0.86667248, 0.65945158]],\n",
              "\n",
              "       [[0.78431519, 0.79951243, 0.41217678, ..., 0.83818456,\n",
              "         0.97302577, 0.9587694 ],\n",
              "        [0.80086279, 0.8153557 , 0.47732063, ..., 0.83409696,\n",
              "         0.97302577, 0.96478919],\n",
              "        [0.82083919, 0.84220587, 0.54974075, ..., 0.83207674,\n",
              "         1.        , 0.98201718],\n",
              "        ...,\n",
              "        [0.88944796, 0.88777151, 0.43173648, ..., 0.92224132,\n",
              "         0.68350454, 0.50695096],\n",
              "        [0.87411809, 0.89873072, 0.54499359, ..., 0.9212382 ,\n",
              "         0.86667248, 0.65945158],\n",
              "        [0.89950516, 0.91395248, 0.58430118, ..., 0.9206186 ,\n",
              "         1.        , 0.85005901]]], shape=(1602, 100, 9))"
            ]
          },
          "execution_count": 24,
          "metadata": {},
          "output_type": "execute_result"
        }
      ],
      "source": [
        "x_train"
      ]
    },
    {
      "cell_type": "code",
      "execution_count": 25,
      "id": "6f94d808",
      "metadata": {
        "colab": {
          "base_uri": "https://localhost:8080/"
        },
        "id": "6f94d808",
        "outputId": "c90d0ba6-14e6-4b11-ea1e-841dc110c041"
      },
      "outputs": [
        {
          "data": {
            "text/plain": [
              "array([[0.08071122, 0.07497819],\n",
              "       [0.07686555, 0.07523728],\n",
              "       [0.08621684, 0.06948103],\n",
              "       ...,\n",
              "       [0.89873072, 0.87411809],\n",
              "       [0.91395248, 0.89950516],\n",
              "       [0.91615131, 0.91068088]], shape=(1602, 2))"
            ]
          },
          "execution_count": 25,
          "metadata": {},
          "output_type": "execute_result"
        }
      ],
      "source": [
        "y_train"
      ]
    },
    {
      "cell_type": "code",
      "execution_count": 26,
      "id": "6ed7a763",
      "metadata": {
        "colab": {
          "base_uri": "https://localhost:8080/"
        },
        "id": "6ed7a763",
        "outputId": "115199b9-4507-47bc-c399-538781911a57"
      },
      "outputs": [
        {
          "data": {
            "text/plain": [
              "(1602, 100, 9)"
            ]
          },
          "execution_count": 26,
          "metadata": {},
          "output_type": "execute_result"
        }
      ],
      "source": [
        "x_train.shape"
      ]
    },
    {
      "cell_type": "code",
      "execution_count": 27,
      "id": "03c094b0",
      "metadata": {
        "colab": {
          "base_uri": "https://localhost:8080/"
        },
        "id": "03c094b0",
        "outputId": "173aa479-6b33-48b6-c3fb-6d37916fdac5"
      },
      "outputs": [
        {
          "data": {
            "text/plain": [
              "(1602, 2)"
            ]
          },
          "execution_count": 27,
          "metadata": {},
          "output_type": "execute_result"
        }
      ],
      "source": [
        "y_train.shape"
      ]
    },
    {
      "cell_type": "code",
      "execution_count": 28,
      "id": "1faca2c2",
      "metadata": {
        "colab": {
          "base_uri": "https://localhost:8080/"
        },
        "id": "1faca2c2",
        "outputId": "ab5f4435-7293-4230-8228-07df00f42974"
      },
      "outputs": [
        {
          "data": {
            "text/plain": [
              "3"
            ]
          },
          "execution_count": 28,
          "metadata": {},
          "output_type": "execute_result"
        }
      ],
      "source": [
        "x_train.ndim"
      ]
    },
    {
      "cell_type": "code",
      "execution_count": 29,
      "id": "18400ffb",
      "metadata": {
        "colab": {
          "base_uri": "https://localhost:8080/"
        },
        "id": "18400ffb",
        "outputId": "1b214f82-c343-4c5d-9a70-b7f916df7c3c"
      },
      "outputs": [
        {
          "data": {
            "text/plain": [
              "2"
            ]
          },
          "execution_count": 29,
          "metadata": {},
          "output_type": "execute_result"
        }
      ],
      "source": [
        "y_train.ndim"
      ]
    },
    {
      "cell_type": "markdown",
      "id": "484cd718",
      "metadata": {
        "id": "484cd718"
      },
      "source": [
        "## 6. Model Building"
      ]
    },
    {
      "cell_type": "code",
      "execution_count": 30,
      "id": "05a82af9",
      "metadata": {
        "colab": {
          "base_uri": "https://localhost:8080/",
          "height": 36
        },
        "id": "05a82af9",
        "outputId": "d360d813-da9e-4451-82a2-daed468b9120"
      },
      "outputs": [
        {
          "data": {
            "text/plain": [
              "'2.20.0'"
            ]
          },
          "execution_count": 30,
          "metadata": {},
          "output_type": "execute_result"
        }
      ],
      "source": [
        "import tensorflow as tf\n",
        "tf.__version__"
      ]
    },
    {
      "cell_type": "code",
      "execution_count": 31,
      "id": "d3687a62",
      "metadata": {
        "id": "d3687a62"
      },
      "outputs": [],
      "source": [
        "# ML Model\n",
        "from keras.models import Sequential\n",
        "from keras.layers import Dense, LSTM, Input"
      ]
    },
    {
      "cell_type": "code",
      "execution_count": 32,
      "id": "95287b77",
      "metadata": {
        "id": "95287b77"
      },
      "outputs": [],
      "source": [
        "model = Sequential()\n",
        "\n",
        "model.add(Input(shape=(100, x_train.shape[2])))\n",
        "model.add(LSTM(units=128, activation='tanh', return_sequences=True)) # Give Sequence of output\n",
        "model.add(LSTM(units=64))\n",
        "model.add(Dense(25))\n",
        "model.add(Dense(2))"
      ]
    },
    {
      "cell_type": "markdown",
      "id": "13a77bfc",
      "metadata": {
        "id": "13a77bfc"
      },
      "source": [
        "## 7. Model Training"
      ]
    },
    {
      "cell_type": "code",
      "execution_count": 33,
      "id": "3fa73c70",
      "metadata": {
        "colab": {
          "base_uri": "https://localhost:8080/"
        },
        "id": "3fa73c70",
        "outputId": "f3c5128f-21f2-4b6a-d8ae-e3af10cac3ae"
      },
      "outputs": [
        {
          "name": "stdout",
          "output_type": "stream",
          "text": [
            "Epoch 1/100\n",
            "\u001b[1m51/51\u001b[0m \u001b[32m━━━━━━━━━━━━━━━━━━━━\u001b[0m\u001b[37m\u001b[0m \u001b[1m4s\u001b[0m 42ms/step - loss: 0.0141\n",
            "Epoch 2/100\n",
            "\u001b[1m51/51\u001b[0m \u001b[32m━━━━━━━━━━━━━━━━━━━━\u001b[0m\u001b[37m\u001b[0m \u001b[1m2s\u001b[0m 44ms/step - loss: 8.3456e-04\n",
            "Epoch 3/100\n",
            "\u001b[1m51/51\u001b[0m \u001b[32m━━━━━━━━━━━━━━━━━━━━\u001b[0m\u001b[37m\u001b[0m \u001b[1m2s\u001b[0m 44ms/step - loss: 6.1657e-04\n",
            "Epoch 4/100\n",
            "\u001b[1m51/51\u001b[0m \u001b[32m━━━━━━━━━━━━━━━━━━━━\u001b[0m\u001b[37m\u001b[0m \u001b[1m2s\u001b[0m 46ms/step - loss: 7.3041e-04\n",
            "Epoch 5/100\n",
            "\u001b[1m51/51\u001b[0m \u001b[32m━━━━━━━━━━━━━━━━━━━━\u001b[0m\u001b[37m\u001b[0m \u001b[1m2s\u001b[0m 47ms/step - loss: 5.5663e-04\n",
            "Epoch 6/100\n",
            "\u001b[1m51/51\u001b[0m \u001b[32m━━━━━━━━━━━━━━━━━━━━\u001b[0m\u001b[37m\u001b[0m \u001b[1m2s\u001b[0m 45ms/step - loss: 5.9675e-04\n",
            "Epoch 7/100\n",
            "\u001b[1m51/51\u001b[0m \u001b[32m━━━━━━━━━━━━━━━━━━━━\u001b[0m\u001b[37m\u001b[0m \u001b[1m3s\u001b[0m 48ms/step - loss: 5.2995e-04\n",
            "Epoch 8/100\n",
            "\u001b[1m51/51\u001b[0m \u001b[32m━━━━━━━━━━━━━━━━━━━━\u001b[0m\u001b[37m\u001b[0m \u001b[1m2s\u001b[0m 43ms/step - loss: 4.8265e-04\n",
            "Epoch 9/100\n",
            "\u001b[1m51/51\u001b[0m \u001b[32m━━━━━━━━━━━━━━━━━━━━\u001b[0m\u001b[37m\u001b[0m \u001b[1m2s\u001b[0m 42ms/step - loss: 5.8384e-04\n",
            "Epoch 10/100\n",
            "\u001b[1m51/51\u001b[0m \u001b[32m━━━━━━━━━━━━━━━━━━━━\u001b[0m\u001b[37m\u001b[0m \u001b[1m2s\u001b[0m 40ms/step - loss: 4.9667e-04\n",
            "Epoch 11/100\n",
            "\u001b[1m51/51\u001b[0m \u001b[32m━━━━━━━━━━━━━━━━━━━━\u001b[0m\u001b[37m\u001b[0m \u001b[1m2s\u001b[0m 38ms/step - loss: 4.3855e-04\n",
            "Epoch 12/100\n",
            "\u001b[1m51/51\u001b[0m \u001b[32m━━━━━━━━━━━━━━━━━━━━\u001b[0m\u001b[37m\u001b[0m \u001b[1m2s\u001b[0m 37ms/step - loss: 4.4274e-04\n",
            "Epoch 13/100\n",
            "\u001b[1m51/51\u001b[0m \u001b[32m━━━━━━━━━━━━━━━━━━━━\u001b[0m\u001b[37m\u001b[0m \u001b[1m2s\u001b[0m 38ms/step - loss: 4.4749e-04\n",
            "Epoch 14/100\n",
            "\u001b[1m51/51\u001b[0m \u001b[32m━━━━━━━━━━━━━━━━━━━━\u001b[0m\u001b[37m\u001b[0m \u001b[1m2s\u001b[0m 37ms/step - loss: 4.0596e-04\n",
            "Epoch 15/100\n",
            "\u001b[1m51/51\u001b[0m \u001b[32m━━━━━━━━━━━━━━━━━━━━\u001b[0m\u001b[37m\u001b[0m \u001b[1m2s\u001b[0m 36ms/step - loss: 3.9623e-04\n",
            "Epoch 16/100\n",
            "\u001b[1m51/51\u001b[0m \u001b[32m━━━━━━━━━━━━━━━━━━━━\u001b[0m\u001b[37m\u001b[0m \u001b[1m2s\u001b[0m 37ms/step - loss: 3.8009e-04\n",
            "Epoch 17/100\n",
            "\u001b[1m51/51\u001b[0m \u001b[32m━━━━━━━━━━━━━━━━━━━━\u001b[0m\u001b[37m\u001b[0m \u001b[1m2s\u001b[0m 37ms/step - loss: 4.0902e-04\n",
            "Epoch 18/100\n",
            "\u001b[1m51/51\u001b[0m \u001b[32m━━━━━━━━━━━━━━━━━━━━\u001b[0m\u001b[37m\u001b[0m \u001b[1m2s\u001b[0m 37ms/step - loss: 3.6273e-04\n",
            "Epoch 19/100\n",
            "\u001b[1m51/51\u001b[0m \u001b[32m━━━━━━━━━━━━━━━━━━━━\u001b[0m\u001b[37m\u001b[0m \u001b[1m2s\u001b[0m 38ms/step - loss: 3.5349e-04\n",
            "Epoch 20/100\n",
            "\u001b[1m51/51\u001b[0m \u001b[32m━━━━━━━━━━━━━━━━━━━━\u001b[0m\u001b[37m\u001b[0m \u001b[1m2s\u001b[0m 37ms/step - loss: 3.9170e-04\n",
            "Epoch 21/100\n",
            "\u001b[1m51/51\u001b[0m \u001b[32m━━━━━━━━━━━━━━━━━━━━\u001b[0m\u001b[37m\u001b[0m \u001b[1m2s\u001b[0m 36ms/step - loss: 3.5904e-04\n",
            "Epoch 22/100\n",
            "\u001b[1m51/51\u001b[0m \u001b[32m━━━━━━━━━━━━━━━━━━━━\u001b[0m\u001b[37m\u001b[0m \u001b[1m2s\u001b[0m 37ms/step - loss: 3.5772e-04\n",
            "Epoch 23/100\n",
            "\u001b[1m51/51\u001b[0m \u001b[32m━━━━━━━━━━━━━━━━━━━━\u001b[0m\u001b[37m\u001b[0m \u001b[1m2s\u001b[0m 37ms/step - loss: 3.6765e-04\n",
            "Epoch 24/100\n",
            "\u001b[1m51/51\u001b[0m \u001b[32m━━━━━━━━━━━━━━━━━━━━\u001b[0m\u001b[37m\u001b[0m \u001b[1m2s\u001b[0m 37ms/step - loss: 3.4500e-04\n",
            "Epoch 25/100\n",
            "\u001b[1m51/51\u001b[0m \u001b[32m━━━━━━━━━━━━━━━━━━━━\u001b[0m\u001b[37m\u001b[0m \u001b[1m2s\u001b[0m 39ms/step - loss: 3.5076e-04\n",
            "Epoch 26/100\n",
            "\u001b[1m51/51\u001b[0m \u001b[32m━━━━━━━━━━━━━━━━━━━━\u001b[0m\u001b[37m\u001b[0m \u001b[1m2s\u001b[0m 38ms/step - loss: 3.5213e-04\n",
            "Epoch 27/100\n",
            "\u001b[1m51/51\u001b[0m \u001b[32m━━━━━━━━━━━━━━━━━━━━\u001b[0m\u001b[37m\u001b[0m \u001b[1m2s\u001b[0m 37ms/step - loss: 3.5098e-04\n",
            "Epoch 28/100\n",
            "\u001b[1m51/51\u001b[0m \u001b[32m━━━━━━━━━━━━━━━━━━━━\u001b[0m\u001b[37m\u001b[0m \u001b[1m2s\u001b[0m 36ms/step - loss: 2.8784e-04\n",
            "Epoch 29/100\n",
            "\u001b[1m51/51\u001b[0m \u001b[32m━━━━━━━━━━━━━━━━━━━━\u001b[0m\u001b[37m\u001b[0m \u001b[1m2s\u001b[0m 36ms/step - loss: 2.7113e-04\n",
            "Epoch 30/100\n",
            "\u001b[1m51/51\u001b[0m \u001b[32m━━━━━━━━━━━━━━━━━━━━\u001b[0m\u001b[37m\u001b[0m \u001b[1m2s\u001b[0m 37ms/step - loss: 2.9478e-04\n",
            "Epoch 31/100\n",
            "\u001b[1m51/51\u001b[0m \u001b[32m━━━━━━━━━━━━━━━━━━━━\u001b[0m\u001b[37m\u001b[0m \u001b[1m2s\u001b[0m 37ms/step - loss: 2.4367e-04\n",
            "Epoch 32/100\n",
            "\u001b[1m51/51\u001b[0m \u001b[32m━━━━━━━━━━━━━━━━━━━━\u001b[0m\u001b[37m\u001b[0m \u001b[1m2s\u001b[0m 36ms/step - loss: 2.6877e-04\n",
            "Epoch 33/100\n",
            "\u001b[1m51/51\u001b[0m \u001b[32m━━━━━━━━━━━━━━━━━━━━\u001b[0m\u001b[37m\u001b[0m \u001b[1m2s\u001b[0m 38ms/step - loss: 2.3168e-04\n",
            "Epoch 34/100\n",
            "\u001b[1m51/51\u001b[0m \u001b[32m━━━━━━━━━━━━━━━━━━━━\u001b[0m\u001b[37m\u001b[0m \u001b[1m2s\u001b[0m 38ms/step - loss: 2.4184e-04\n",
            "Epoch 35/100\n",
            "\u001b[1m51/51\u001b[0m \u001b[32m━━━━━━━━━━━━━━━━━━━━\u001b[0m\u001b[37m\u001b[0m \u001b[1m2s\u001b[0m 36ms/step - loss: 2.4590e-04\n",
            "Epoch 36/100\n",
            "\u001b[1m51/51\u001b[0m \u001b[32m━━━━━━━━━━━━━━━━━━━━\u001b[0m\u001b[37m\u001b[0m \u001b[1m2s\u001b[0m 38ms/step - loss: 2.5331e-04\n",
            "Epoch 37/100\n",
            "\u001b[1m51/51\u001b[0m \u001b[32m━━━━━━━━━━━━━━━━━━━━\u001b[0m\u001b[37m\u001b[0m \u001b[1m2s\u001b[0m 37ms/step - loss: 2.2949e-04\n",
            "Epoch 38/100\n",
            "\u001b[1m51/51\u001b[0m \u001b[32m━━━━━━━━━━━━━━━━━━━━\u001b[0m\u001b[37m\u001b[0m \u001b[1m2s\u001b[0m 37ms/step - loss: 2.2234e-04\n",
            "Epoch 39/100\n",
            "\u001b[1m51/51\u001b[0m \u001b[32m━━━━━━━━━━━━━━━━━━━━\u001b[0m\u001b[37m\u001b[0m \u001b[1m2s\u001b[0m 36ms/step - loss: 2.1426e-04\n",
            "Epoch 40/100\n",
            "\u001b[1m51/51\u001b[0m \u001b[32m━━━━━━━━━━━━━━━━━━━━\u001b[0m\u001b[37m\u001b[0m \u001b[1m2s\u001b[0m 37ms/step - loss: 1.9559e-04\n",
            "Epoch 41/100\n",
            "\u001b[1m51/51\u001b[0m \u001b[32m━━━━━━━━━━━━━━━━━━━━\u001b[0m\u001b[37m\u001b[0m \u001b[1m2s\u001b[0m 37ms/step - loss: 1.9806e-04\n",
            "Epoch 42/100\n",
            "\u001b[1m51/51\u001b[0m \u001b[32m━━━━━━━━━━━━━━━━━━━━\u001b[0m\u001b[37m\u001b[0m \u001b[1m2s\u001b[0m 37ms/step - loss: 1.7105e-04\n",
            "Epoch 43/100\n",
            "\u001b[1m51/51\u001b[0m \u001b[32m━━━━━━━━━━━━━━━━━━━━\u001b[0m\u001b[37m\u001b[0m \u001b[1m2s\u001b[0m 36ms/step - loss: 2.0219e-04\n",
            "Epoch 44/100\n",
            "\u001b[1m51/51\u001b[0m \u001b[32m━━━━━━━━━━━━━━━━━━━━\u001b[0m\u001b[37m\u001b[0m \u001b[1m2s\u001b[0m 37ms/step - loss: 2.6136e-04\n",
            "Epoch 45/100\n",
            "\u001b[1m51/51\u001b[0m \u001b[32m━━━━━━━━━━━━━━━━━━━━\u001b[0m\u001b[37m\u001b[0m \u001b[1m2s\u001b[0m 36ms/step - loss: 2.2463e-04\n",
            "Epoch 46/100\n",
            "\u001b[1m51/51\u001b[0m \u001b[32m━━━━━━━━━━━━━━━━━━━━\u001b[0m\u001b[37m\u001b[0m \u001b[1m2s\u001b[0m 36ms/step - loss: 2.0043e-04\n",
            "Epoch 47/100\n",
            "\u001b[1m51/51\u001b[0m \u001b[32m━━━━━━━━━━━━━━━━━━━━\u001b[0m\u001b[37m\u001b[0m \u001b[1m2s\u001b[0m 38ms/step - loss: 1.8318e-04\n",
            "Epoch 48/100\n",
            "\u001b[1m51/51\u001b[0m \u001b[32m━━━━━━━━━━━━━━━━━━━━\u001b[0m\u001b[37m\u001b[0m \u001b[1m2s\u001b[0m 37ms/step - loss: 2.1927e-04\n",
            "Epoch 49/100\n",
            "\u001b[1m51/51\u001b[0m \u001b[32m━━━━━━━━━━━━━━━━━━━━\u001b[0m\u001b[37m\u001b[0m \u001b[1m2s\u001b[0m 37ms/step - loss: 2.3174e-04\n",
            "Epoch 50/100\n",
            "\u001b[1m51/51\u001b[0m \u001b[32m━━━━━━━━━━━━━━━━━━━━\u001b[0m\u001b[37m\u001b[0m \u001b[1m2s\u001b[0m 37ms/step - loss: 1.9169e-04\n",
            "Epoch 51/100\n",
            "\u001b[1m51/51\u001b[0m \u001b[32m━━━━━━━━━━━━━━━━━━━━\u001b[0m\u001b[37m\u001b[0m \u001b[1m2s\u001b[0m 37ms/step - loss: 1.6769e-04\n",
            "Epoch 52/100\n",
            "\u001b[1m51/51\u001b[0m \u001b[32m━━━━━━━━━━━━━━━━━━━━\u001b[0m\u001b[37m\u001b[0m \u001b[1m2s\u001b[0m 36ms/step - loss: 1.7131e-04\n",
            "Epoch 53/100\n",
            "\u001b[1m51/51\u001b[0m \u001b[32m━━━━━━━━━━━━━━━━━━━━\u001b[0m\u001b[37m\u001b[0m \u001b[1m2s\u001b[0m 36ms/step - loss: 2.5572e-04\n",
            "Epoch 54/100\n",
            "\u001b[1m51/51\u001b[0m \u001b[32m━━━━━━━━━━━━━━━━━━━━\u001b[0m\u001b[37m\u001b[0m \u001b[1m2s\u001b[0m 37ms/step - loss: 2.4486e-04\n",
            "Epoch 55/100\n",
            "\u001b[1m51/51\u001b[0m \u001b[32m━━━━━━━━━━━━━━━━━━━━\u001b[0m\u001b[37m\u001b[0m \u001b[1m2s\u001b[0m 37ms/step - loss: 2.0401e-04\n",
            "Epoch 56/100\n",
            "\u001b[1m51/51\u001b[0m \u001b[32m━━━━━━━━━━━━━━━━━━━━\u001b[0m\u001b[37m\u001b[0m \u001b[1m2s\u001b[0m 36ms/step - loss: 2.4505e-04\n",
            "Epoch 57/100\n",
            "\u001b[1m51/51\u001b[0m \u001b[32m━━━━━━━━━━━━━━━━━━━━\u001b[0m\u001b[37m\u001b[0m \u001b[1m2s\u001b[0m 37ms/step - loss: 2.0331e-04\n",
            "Epoch 58/100\n",
            "\u001b[1m51/51\u001b[0m \u001b[32m━━━━━━━━━━━━━━━━━━━━\u001b[0m\u001b[37m\u001b[0m \u001b[1m2s\u001b[0m 38ms/step - loss: 1.7076e-04\n",
            "Epoch 59/100\n",
            "\u001b[1m51/51\u001b[0m \u001b[32m━━━━━━━━━━━━━━━━━━━━\u001b[0m\u001b[37m\u001b[0m \u001b[1m2s\u001b[0m 37ms/step - loss: 1.7749e-04\n",
            "Epoch 60/100\n",
            "\u001b[1m51/51\u001b[0m \u001b[32m━━━━━━━━━━━━━━━━━━━━\u001b[0m\u001b[37m\u001b[0m \u001b[1m2s\u001b[0m 38ms/step - loss: 1.5742e-04\n",
            "Epoch 61/100\n",
            "\u001b[1m51/51\u001b[0m \u001b[32m━━━━━━━━━━━━━━━━━━━━\u001b[0m\u001b[37m\u001b[0m \u001b[1m2s\u001b[0m 37ms/step - loss: 2.5134e-04\n",
            "Epoch 62/100\n",
            "\u001b[1m51/51\u001b[0m \u001b[32m━━━━━━━━━━━━━━━━━━━━\u001b[0m\u001b[37m\u001b[0m \u001b[1m2s\u001b[0m 38ms/step - loss: 1.6484e-04\n",
            "Epoch 63/100\n",
            "\u001b[1m51/51\u001b[0m \u001b[32m━━━━━━━━━━━━━━━━━━━━\u001b[0m\u001b[37m\u001b[0m \u001b[1m2s\u001b[0m 37ms/step - loss: 1.7960e-04\n",
            "Epoch 64/100\n",
            "\u001b[1m51/51\u001b[0m \u001b[32m━━━━━━━━━━━━━━━━━━━━\u001b[0m\u001b[37m\u001b[0m \u001b[1m2s\u001b[0m 37ms/step - loss: 2.1298e-04\n",
            "Epoch 65/100\n",
            "\u001b[1m51/51\u001b[0m \u001b[32m━━━━━━━━━━━━━━━━━━━━\u001b[0m\u001b[37m\u001b[0m \u001b[1m2s\u001b[0m 38ms/step - loss: 1.6232e-04\n",
            "Epoch 66/100\n",
            "\u001b[1m51/51\u001b[0m \u001b[32m━━━━━━━━━━━━━━━━━━━━\u001b[0m\u001b[37m\u001b[0m \u001b[1m2s\u001b[0m 37ms/step - loss: 1.3455e-04\n",
            "Epoch 67/100\n",
            "\u001b[1m51/51\u001b[0m \u001b[32m━━━━━━━━━━━━━━━━━━━━\u001b[0m\u001b[37m\u001b[0m \u001b[1m2s\u001b[0m 37ms/step - loss: 1.6168e-04\n",
            "Epoch 68/100\n",
            "\u001b[1m51/51\u001b[0m \u001b[32m━━━━━━━━━━━━━━━━━━━━\u001b[0m\u001b[37m\u001b[0m \u001b[1m2s\u001b[0m 37ms/step - loss: 2.2289e-04\n",
            "Epoch 69/100\n",
            "\u001b[1m51/51\u001b[0m \u001b[32m━━━━━━━━━━━━━━━━━━━━\u001b[0m\u001b[37m\u001b[0m \u001b[1m2s\u001b[0m 38ms/step - loss: 1.6943e-04\n",
            "Epoch 70/100\n",
            "\u001b[1m51/51\u001b[0m \u001b[32m━━━━━━━━━━━━━━━━━━━━\u001b[0m\u001b[37m\u001b[0m \u001b[1m2s\u001b[0m 37ms/step - loss: 1.4789e-04\n",
            "Epoch 71/100\n",
            "\u001b[1m51/51\u001b[0m \u001b[32m━━━━━━━━━━━━━━━━━━━━\u001b[0m\u001b[37m\u001b[0m \u001b[1m2s\u001b[0m 36ms/step - loss: 1.4553e-04\n",
            "Epoch 72/100\n",
            "\u001b[1m51/51\u001b[0m \u001b[32m━━━━━━━━━━━━━━━━━━━━\u001b[0m\u001b[37m\u001b[0m \u001b[1m2s\u001b[0m 38ms/step - loss: 1.5123e-04\n",
            "Epoch 73/100\n",
            "\u001b[1m51/51\u001b[0m \u001b[32m━━━━━━━━━━━━━━━━━━━━\u001b[0m\u001b[37m\u001b[0m \u001b[1m2s\u001b[0m 37ms/step - loss: 2.9178e-04\n",
            "Epoch 74/100\n",
            "\u001b[1m51/51\u001b[0m \u001b[32m━━━━━━━━━━━━━━━━━━━━\u001b[0m\u001b[37m\u001b[0m \u001b[1m2s\u001b[0m 37ms/step - loss: 1.5003e-04\n",
            "Epoch 75/100\n",
            "\u001b[1m51/51\u001b[0m \u001b[32m━━━━━━━━━━━━━━━━━━━━\u001b[0m\u001b[37m\u001b[0m \u001b[1m2s\u001b[0m 37ms/step - loss: 1.5469e-04\n",
            "Epoch 76/100\n",
            "\u001b[1m51/51\u001b[0m \u001b[32m━━━━━━━━━━━━━━━━━━━━\u001b[0m\u001b[37m\u001b[0m \u001b[1m2s\u001b[0m 37ms/step - loss: 1.6915e-04\n",
            "Epoch 77/100\n",
            "\u001b[1m51/51\u001b[0m \u001b[32m━━━━━━━━━━━━━━━━━━━━\u001b[0m\u001b[37m\u001b[0m \u001b[1m2s\u001b[0m 38ms/step - loss: 2.0093e-04\n",
            "Epoch 78/100\n",
            "\u001b[1m51/51\u001b[0m \u001b[32m━━━━━━━━━━━━━━━━━━━━\u001b[0m\u001b[37m\u001b[0m \u001b[1m2s\u001b[0m 37ms/step - loss: 1.4524e-04\n",
            "Epoch 79/100\n",
            "\u001b[1m51/51\u001b[0m \u001b[32m━━━━━━━━━━━━━━━━━━━━\u001b[0m\u001b[37m\u001b[0m \u001b[1m2s\u001b[0m 37ms/step - loss: 1.7123e-04\n",
            "Epoch 80/100\n",
            "\u001b[1m51/51\u001b[0m \u001b[32m━━━━━━━━━━━━━━━━━━━━\u001b[0m\u001b[37m\u001b[0m \u001b[1m2s\u001b[0m 37ms/step - loss: 1.5221e-04\n",
            "Epoch 81/100\n",
            "\u001b[1m51/51\u001b[0m \u001b[32m━━━━━━━━━━━━━━━━━━━━\u001b[0m\u001b[37m\u001b[0m \u001b[1m2s\u001b[0m 37ms/step - loss: 1.6801e-04\n",
            "Epoch 82/100\n",
            "\u001b[1m51/51\u001b[0m \u001b[32m━━━━━━━━━━━━━━━━━━━━\u001b[0m\u001b[37m\u001b[0m \u001b[1m2s\u001b[0m 37ms/step - loss: 1.2864e-04\n",
            "Epoch 83/100\n",
            "\u001b[1m51/51\u001b[0m \u001b[32m━━━━━━━━━━━━━━━━━━━━\u001b[0m\u001b[37m\u001b[0m \u001b[1m2s\u001b[0m 37ms/step - loss: 1.9567e-04\n",
            "Epoch 84/100\n",
            "\u001b[1m51/51\u001b[0m \u001b[32m━━━━━━━━━━━━━━━━━━━━\u001b[0m\u001b[37m\u001b[0m \u001b[1m2s\u001b[0m 38ms/step - loss: 1.3717e-04\n",
            "Epoch 85/100\n",
            "\u001b[1m51/51\u001b[0m \u001b[32m━━━━━━━━━━━━━━━━━━━━\u001b[0m\u001b[37m\u001b[0m \u001b[1m2s\u001b[0m 37ms/step - loss: 1.3520e-04\n",
            "Epoch 86/100\n",
            "\u001b[1m51/51\u001b[0m \u001b[32m━━━━━━━━━━━━━━━━━━━━\u001b[0m\u001b[37m\u001b[0m \u001b[1m2s\u001b[0m 36ms/step - loss: 1.5207e-04\n",
            "Epoch 87/100\n",
            "\u001b[1m51/51\u001b[0m \u001b[32m━━━━━━━━━━━━━━━━━━━━\u001b[0m\u001b[37m\u001b[0m \u001b[1m2s\u001b[0m 37ms/step - loss: 1.2053e-04\n",
            "Epoch 88/100\n",
            "\u001b[1m51/51\u001b[0m \u001b[32m━━━━━━━━━━━━━━━━━━━━\u001b[0m\u001b[37m\u001b[0m \u001b[1m2s\u001b[0m 38ms/step - loss: 1.7330e-04\n",
            "Epoch 89/100\n",
            "\u001b[1m51/51\u001b[0m \u001b[32m━━━━━━━━━━━━━━━━━━━━\u001b[0m\u001b[37m\u001b[0m \u001b[1m2s\u001b[0m 37ms/step - loss: 1.4219e-04\n",
            "Epoch 90/100\n",
            "\u001b[1m51/51\u001b[0m \u001b[32m━━━━━━━━━━━━━━━━━━━━\u001b[0m\u001b[37m\u001b[0m \u001b[1m2s\u001b[0m 37ms/step - loss: 1.5353e-04\n",
            "Epoch 91/100\n",
            "\u001b[1m51/51\u001b[0m \u001b[32m━━━━━━━━━━━━━━━━━━━━\u001b[0m\u001b[37m\u001b[0m \u001b[1m2s\u001b[0m 37ms/step - loss: 1.7902e-04\n",
            "Epoch 92/100\n",
            "\u001b[1m51/51\u001b[0m \u001b[32m━━━━━━━━━━━━━━━━━━━━\u001b[0m\u001b[37m\u001b[0m \u001b[1m2s\u001b[0m 37ms/step - loss: 1.3648e-04\n",
            "Epoch 93/100\n",
            "\u001b[1m51/51\u001b[0m \u001b[32m━━━━━━━━━━━━━━━━━━━━\u001b[0m\u001b[37m\u001b[0m \u001b[1m2s\u001b[0m 37ms/step - loss: 1.1693e-04\n",
            "Epoch 94/100\n",
            "\u001b[1m51/51\u001b[0m \u001b[32m━━━━━━━━━━━━━━━━━━━━\u001b[0m\u001b[37m\u001b[0m \u001b[1m2s\u001b[0m 37ms/step - loss: 1.2147e-04\n",
            "Epoch 95/100\n",
            "\u001b[1m51/51\u001b[0m \u001b[32m━━━━━━━━━━━━━━━━━━━━\u001b[0m\u001b[37m\u001b[0m \u001b[1m2s\u001b[0m 38ms/step - loss: 1.1318e-04\n",
            "Epoch 96/100\n",
            "\u001b[1m51/51\u001b[0m \u001b[32m━━━━━━━━━━━━━━━━━━━━\u001b[0m\u001b[37m\u001b[0m \u001b[1m2s\u001b[0m 38ms/step - loss: 1.2670e-04\n",
            "Epoch 97/100\n",
            "\u001b[1m51/51\u001b[0m \u001b[32m━━━━━━━━━━━━━━━━━━━━\u001b[0m\u001b[37m\u001b[0m \u001b[1m2s\u001b[0m 37ms/step - loss: 1.2732e-04\n",
            "Epoch 98/100\n",
            "\u001b[1m51/51\u001b[0m \u001b[32m━━━━━━━━━━━━━━━━━━━━\u001b[0m\u001b[37m\u001b[0m \u001b[1m2s\u001b[0m 38ms/step - loss: 1.2705e-04\n",
            "Epoch 99/100\n",
            "\u001b[1m51/51\u001b[0m \u001b[32m━━━━━━━━━━━━━━━━━━━━\u001b[0m\u001b[37m\u001b[0m \u001b[1m2s\u001b[0m 37ms/step - loss: 1.2919e-04\n",
            "Epoch 100/100\n",
            "\u001b[1m51/51\u001b[0m \u001b[32m━━━━━━━━━━━━━━━━━━━━\u001b[0m\u001b[37m\u001b[0m \u001b[1m2s\u001b[0m 38ms/step - loss: 1.3810e-04\n"
          ]
        },
        {
          "data": {
            "text/plain": [
              "<keras.src.callbacks.history.History at 0x1c62ba02f90>"
            ]
          },
          "execution_count": 33,
          "metadata": {},
          "output_type": "execute_result"
        }
      ],
      "source": [
        "model.compile(optimizer='adam', loss='mean_squared_error')\n",
        "model.fit(x_train, y_train, epochs=100)"
      ]
    },
    {
      "cell_type": "code",
      "execution_count": 34,
      "id": "7458522d",
      "metadata": {
        "colab": {
          "base_uri": "https://localhost:8080/",
          "height": 273
        },
        "id": "7458522d",
        "outputId": "1ea5e864-cb38-4346-bdb7-8179ff6eb7e5"
      },
      "outputs": [
        {
          "data": {
            "text/html": [
              "<pre style=\"white-space:pre;overflow-x:auto;line-height:normal;font-family:Menlo,'DejaVu Sans Mono',consolas,'Courier New',monospace\"><span style=\"font-weight: bold\">Model: \"sequential\"</span>\n",
              "</pre>\n"
            ],
            "text/plain": [
              "\u001b[1mModel: \"sequential\"\u001b[0m\n"
            ]
          },
          "metadata": {},
          "output_type": "display_data"
        },
        {
          "data": {
            "text/html": [
              "<pre style=\"white-space:pre;overflow-x:auto;line-height:normal;font-family:Menlo,'DejaVu Sans Mono',consolas,'Courier New',monospace\">┏━━━━━━━━━━━━━━━━━━━━━━━━━━━━━━━━━┳━━━━━━━━━━━━━━━━━━━━━━━━┳━━━━━━━━━━━━━━━┓\n",
              "┃<span style=\"font-weight: bold\"> Layer (type)                    </span>┃<span style=\"font-weight: bold\"> Output Shape           </span>┃<span style=\"font-weight: bold\">       Param # </span>┃\n",
              "┡━━━━━━━━━━━━━━━━━━━━━━━━━━━━━━━━━╇━━━━━━━━━━━━━━━━━━━━━━━━╇━━━━━━━━━━━━━━━┩\n",
              "│ lstm (<span style=\"color: #0087ff; text-decoration-color: #0087ff\">LSTM</span>)                     │ (<span style=\"color: #00d7ff; text-decoration-color: #00d7ff\">None</span>, <span style=\"color: #00af00; text-decoration-color: #00af00\">100</span>, <span style=\"color: #00af00; text-decoration-color: #00af00\">128</span>)       │        <span style=\"color: #00af00; text-decoration-color: #00af00\">70,656</span> │\n",
              "├─────────────────────────────────┼────────────────────────┼───────────────┤\n",
              "│ lstm_1 (<span style=\"color: #0087ff; text-decoration-color: #0087ff\">LSTM</span>)                   │ (<span style=\"color: #00d7ff; text-decoration-color: #00d7ff\">None</span>, <span style=\"color: #00af00; text-decoration-color: #00af00\">64</span>)             │        <span style=\"color: #00af00; text-decoration-color: #00af00\">49,408</span> │\n",
              "├─────────────────────────────────┼────────────────────────┼───────────────┤\n",
              "│ dense (<span style=\"color: #0087ff; text-decoration-color: #0087ff\">Dense</span>)                   │ (<span style=\"color: #00d7ff; text-decoration-color: #00d7ff\">None</span>, <span style=\"color: #00af00; text-decoration-color: #00af00\">25</span>)             │         <span style=\"color: #00af00; text-decoration-color: #00af00\">1,625</span> │\n",
              "├─────────────────────────────────┼────────────────────────┼───────────────┤\n",
              "│ dense_1 (<span style=\"color: #0087ff; text-decoration-color: #0087ff\">Dense</span>)                 │ (<span style=\"color: #00d7ff; text-decoration-color: #00d7ff\">None</span>, <span style=\"color: #00af00; text-decoration-color: #00af00\">2</span>)              │            <span style=\"color: #00af00; text-decoration-color: #00af00\">52</span> │\n",
              "└─────────────────────────────────┴────────────────────────┴───────────────┘\n",
              "</pre>\n"
            ],
            "text/plain": [
              "┏━━━━━━━━━━━━━━━━━━━━━━━━━━━━━━━━━┳━━━━━━━━━━━━━━━━━━━━━━━━┳━━━━━━━━━━━━━━━┓\n",
              "┃\u001b[1m \u001b[0m\u001b[1mLayer (type)                   \u001b[0m\u001b[1m \u001b[0m┃\u001b[1m \u001b[0m\u001b[1mOutput Shape          \u001b[0m\u001b[1m \u001b[0m┃\u001b[1m \u001b[0m\u001b[1m      Param #\u001b[0m\u001b[1m \u001b[0m┃\n",
              "┡━━━━━━━━━━━━━━━━━━━━━━━━━━━━━━━━━╇━━━━━━━━━━━━━━━━━━━━━━━━╇━━━━━━━━━━━━━━━┩\n",
              "│ lstm (\u001b[38;5;33mLSTM\u001b[0m)                     │ (\u001b[38;5;45mNone\u001b[0m, \u001b[38;5;34m100\u001b[0m, \u001b[38;5;34m128\u001b[0m)       │        \u001b[38;5;34m70,656\u001b[0m │\n",
              "├─────────────────────────────────┼────────────────────────┼───────────────┤\n",
              "│ lstm_1 (\u001b[38;5;33mLSTM\u001b[0m)                   │ (\u001b[38;5;45mNone\u001b[0m, \u001b[38;5;34m64\u001b[0m)             │        \u001b[38;5;34m49,408\u001b[0m │\n",
              "├─────────────────────────────────┼────────────────────────┼───────────────┤\n",
              "│ dense (\u001b[38;5;33mDense\u001b[0m)                   │ (\u001b[38;5;45mNone\u001b[0m, \u001b[38;5;34m25\u001b[0m)             │         \u001b[38;5;34m1,625\u001b[0m │\n",
              "├─────────────────────────────────┼────────────────────────┼───────────────┤\n",
              "│ dense_1 (\u001b[38;5;33mDense\u001b[0m)                 │ (\u001b[38;5;45mNone\u001b[0m, \u001b[38;5;34m2\u001b[0m)              │            \u001b[38;5;34m52\u001b[0m │\n",
              "└─────────────────────────────────┴────────────────────────┴───────────────┘\n"
            ]
          },
          "metadata": {},
          "output_type": "display_data"
        },
        {
          "data": {
            "text/html": [
              "<pre style=\"white-space:pre;overflow-x:auto;line-height:normal;font-family:Menlo,'DejaVu Sans Mono',consolas,'Courier New',monospace\"><span style=\"font-weight: bold\"> Total params: </span><span style=\"color: #00af00; text-decoration-color: #00af00\">365,225</span> (1.39 MB)\n",
              "</pre>\n"
            ],
            "text/plain": [
              "\u001b[1m Total params: \u001b[0m\u001b[38;5;34m365,225\u001b[0m (1.39 MB)\n"
            ]
          },
          "metadata": {},
          "output_type": "display_data"
        },
        {
          "data": {
            "text/html": [
              "<pre style=\"white-space:pre;overflow-x:auto;line-height:normal;font-family:Menlo,'DejaVu Sans Mono',consolas,'Courier New',monospace\"><span style=\"font-weight: bold\"> Trainable params: </span><span style=\"color: #00af00; text-decoration-color: #00af00\">121,741</span> (475.55 KB)\n",
              "</pre>\n"
            ],
            "text/plain": [
              "\u001b[1m Trainable params: \u001b[0m\u001b[38;5;34m121,741\u001b[0m (475.55 KB)\n"
            ]
          },
          "metadata": {},
          "output_type": "display_data"
        },
        {
          "data": {
            "text/html": [
              "<pre style=\"white-space:pre;overflow-x:auto;line-height:normal;font-family:Menlo,'DejaVu Sans Mono',consolas,'Courier New',monospace\"><span style=\"font-weight: bold\"> Non-trainable params: </span><span style=\"color: #00af00; text-decoration-color: #00af00\">0</span> (0.00 B)\n",
              "</pre>\n"
            ],
            "text/plain": [
              "\u001b[1m Non-trainable params: \u001b[0m\u001b[38;5;34m0\u001b[0m (0.00 B)\n"
            ]
          },
          "metadata": {},
          "output_type": "display_data"
        },
        {
          "data": {
            "text/html": [
              "<pre style=\"white-space:pre;overflow-x:auto;line-height:normal;font-family:Menlo,'DejaVu Sans Mono',consolas,'Courier New',monospace\"><span style=\"font-weight: bold\"> Optimizer params: </span><span style=\"color: #00af00; text-decoration-color: #00af00\">243,484</span> (951.11 KB)\n",
              "</pre>\n"
            ],
            "text/plain": [
              "\u001b[1m Optimizer params: \u001b[0m\u001b[38;5;34m243,484\u001b[0m (951.11 KB)\n"
            ]
          },
          "metadata": {},
          "output_type": "display_data"
        }
      ],
      "source": [
        "model.summary()"
      ]
    },
    {
      "cell_type": "code",
      "execution_count": 35,
      "id": "2b8d3b80",
      "metadata": {
        "id": "2b8d3b80"
      },
      "outputs": [],
      "source": [
        "# Save the trained model\n",
        "model.save('Model_v1.keras')"
      ]
    },
    {
      "cell_type": "markdown",
      "id": "9a1d3f18",
      "metadata": {
        "id": "9a1d3f18"
      },
      "source": [
        "## 8. Preparing Test Data"
      ]
    },
    {
      "cell_type": "code",
      "execution_count": 36,
      "id": "fc77e133",
      "metadata": {
        "id": "fc77e133"
      },
      "outputs": [],
      "source": [
        "past_100_days = data_training.tail(100)\n",
        "final_df = pd.concat([past_100_days, data_testing], ignore_index=True)\n"
      ]
    },
    {
      "cell_type": "code",
      "execution_count": 37,
      "id": "d177d3f5",
      "metadata": {
        "colab": {
          "base_uri": "https://localhost:8080/",
          "height": 475
        },
        "id": "d177d3f5",
        "outputId": "ecd4697d-654f-40f7-c7ed-7cdf42865ed7"
      },
      "outputs": [
        {
          "data": {
            "text/html": [
              "<div>\n",
              "<style scoped>\n",
              "    .dataframe tbody tr th:only-of-type {\n",
              "        vertical-align: middle;\n",
              "    }\n",
              "\n",
              "    .dataframe tbody tr th {\n",
              "        vertical-align: top;\n",
              "    }\n",
              "\n",
              "    .dataframe thead tr th {\n",
              "        text-align: left;\n",
              "    }\n",
              "</style>\n",
              "<table border=\"1\" class=\"dataframe\">\n",
              "  <thead>\n",
              "    <tr>\n",
              "      <th>Price</th>\n",
              "      <th>Open</th>\n",
              "      <th>Close</th>\n",
              "      <th>RSI</th>\n",
              "      <th>MACD</th>\n",
              "      <th>MACD_Signal</th>\n",
              "      <th>EMA_50</th>\n",
              "      <th>SMA_20</th>\n",
              "      <th>StochRSI_K</th>\n",
              "      <th>StochRSI_D</th>\n",
              "    </tr>\n",
              "    <tr>\n",
              "      <th>Ticker</th>\n",
              "      <th>^NSEI</th>\n",
              "      <th>^NSEI</th>\n",
              "      <th></th>\n",
              "      <th></th>\n",
              "      <th></th>\n",
              "      <th></th>\n",
              "      <th></th>\n",
              "      <th></th>\n",
              "      <th></th>\n",
              "    </tr>\n",
              "  </thead>\n",
              "  <tbody>\n",
              "    <tr>\n",
              "      <th>1602</th>\n",
              "      <td>16296.599609</td>\n",
              "      <td>16352.450195</td>\n",
              "      <td>51.024096</td>\n",
              "      <td>-221.941054</td>\n",
              "      <td>-268.490558</td>\n",
              "      <td>16692.189403</td>\n",
              "      <td>16277.400049</td>\n",
              "      <td>0.973026</td>\n",
              "      <td>0.964789</td>\n",
              "    </tr>\n",
              "    <tr>\n",
              "      <th>1603</th>\n",
              "      <td>16527.900391</td>\n",
              "      <td>16661.400391</td>\n",
              "      <td>57.752114</td>\n",
              "      <td>-169.503142</td>\n",
              "      <td>-248.693075</td>\n",
              "      <td>16690.981991</td>\n",
              "      <td>16255.342529</td>\n",
              "      <td>1.000000</td>\n",
              "      <td>0.982017</td>\n",
              "    </tr>\n",
              "    <tr>\n",
              "      <th>1604</th>\n",
              "      <td>16578.449219</td>\n",
              "      <td>16584.550781</td>\n",
              "      <td>57.669368</td>\n",
              "      <td>-132.618100</td>\n",
              "      <td>-225.478080</td>\n",
              "      <td>16686.808218</td>\n",
              "      <td>16231.115088</td>\n",
              "      <td>0.999300</td>\n",
              "      <td>0.990775</td>\n",
              "    </tr>\n",
              "    <tr>\n",
              "      <th>1605</th>\n",
              "      <td>16594.400391</td>\n",
              "      <td>16522.750000</td>\n",
              "      <td>64.741673</td>\n",
              "      <td>-107.138223</td>\n",
              "      <td>-201.810109</td>\n",
              "      <td>16680.374562</td>\n",
              "      <td>16223.372607</td>\n",
              "      <td>0.999300</td>\n",
              "      <td>0.999534</td>\n",
              "    </tr>\n",
              "    <tr>\n",
              "      <th>1606</th>\n",
              "      <td>16481.650391</td>\n",
              "      <td>16628.000000</td>\n",
              "      <td>66.892327</td>\n",
              "      <td>-77.558397</td>\n",
              "      <td>-176.959766</td>\n",
              "      <td>16678.320658</td>\n",
              "      <td>16220.640088</td>\n",
              "      <td>0.999300</td>\n",
              "      <td>0.999300</td>\n",
              "    </tr>\n",
              "    <tr>\n",
              "      <th>...</th>\n",
              "      <td>...</td>\n",
              "      <td>...</td>\n",
              "      <td>...</td>\n",
              "      <td>...</td>\n",
              "      <td>...</td>\n",
              "      <td>...</td>\n",
              "      <td>...</td>\n",
              "      <td>...</td>\n",
              "      <td>...</td>\n",
              "    </tr>\n",
              "    <tr>\n",
              "      <th>1697</th>\n",
              "      <td>17087.349609</td>\n",
              "      <td>17014.349609</td>\n",
              "      <td>36.832177</td>\n",
              "      <td>-113.397337</td>\n",
              "      <td>-95.430004</td>\n",
              "      <td>17247.196626</td>\n",
              "      <td>17274.380078</td>\n",
              "      <td>0.428178</td>\n",
              "      <td>0.433924</td>\n",
              "    </tr>\n",
              "    <tr>\n",
              "      <th>1698</th>\n",
              "      <td>17322.300781</td>\n",
              "      <td>17185.699219</td>\n",
              "      <td>46.789210</td>\n",
              "      <td>-103.442494</td>\n",
              "      <td>-97.032502</td>\n",
              "      <td>17244.784963</td>\n",
              "      <td>17239.795020</td>\n",
              "      <td>0.683505</td>\n",
              "      <td>0.506951</td>\n",
              "    </tr>\n",
              "    <tr>\n",
              "      <th>1699</th>\n",
              "      <td>17144.800781</td>\n",
              "      <td>17311.800781</td>\n",
              "      <td>57.311091</td>\n",
              "      <td>-84.404900</td>\n",
              "      <td>-94.506981</td>\n",
              "      <td>17247.413034</td>\n",
              "      <td>17228.842578</td>\n",
              "      <td>0.866672</td>\n",
              "      <td>0.659452</td>\n",
              "    </tr>\n",
              "    <tr>\n",
              "      <th>1700</th>\n",
              "      <td>17438.750000</td>\n",
              "      <td>17486.949219</td>\n",
              "      <td>60.962868</td>\n",
              "      <td>-54.555572</td>\n",
              "      <td>-86.516700</td>\n",
              "      <td>17256.806610</td>\n",
              "      <td>17222.077539</td>\n",
              "      <td>1.000000</td>\n",
              "      <td>0.850059</td>\n",
              "    </tr>\n",
              "    <tr>\n",
              "      <th>1701</th>\n",
              "      <td>17568.150391</td>\n",
              "      <td>17512.250000</td>\n",
              "      <td>65.837237</td>\n",
              "      <td>-28.529335</td>\n",
              "      <td>-74.919227</td>\n",
              "      <td>17266.823998</td>\n",
              "      <td>17206.877539</td>\n",
              "      <td>1.000000</td>\n",
              "      <td>0.955557</td>\n",
              "    </tr>\n",
              "  </tbody>\n",
              "</table>\n",
              "<p>100 rows × 9 columns</p>\n",
              "</div>"
            ],
            "text/plain": [
              "Price           Open         Close        RSI        MACD MACD_Signal  \\\n",
              "Ticker         ^NSEI         ^NSEI                                      \n",
              "1602    16296.599609  16352.450195  51.024096 -221.941054 -268.490558   \n",
              "1603    16527.900391  16661.400391  57.752114 -169.503142 -248.693075   \n",
              "1604    16578.449219  16584.550781  57.669368 -132.618100 -225.478080   \n",
              "1605    16594.400391  16522.750000  64.741673 -107.138223 -201.810109   \n",
              "1606    16481.650391  16628.000000  66.892327  -77.558397 -176.959766   \n",
              "...              ...           ...        ...         ...         ...   \n",
              "1697    17087.349609  17014.349609  36.832177 -113.397337  -95.430004   \n",
              "1698    17322.300781  17185.699219  46.789210 -103.442494  -97.032502   \n",
              "1699    17144.800781  17311.800781  57.311091  -84.404900  -94.506981   \n",
              "1700    17438.750000  17486.949219  60.962868  -54.555572  -86.516700   \n",
              "1701    17568.150391  17512.250000  65.837237  -28.529335  -74.919227   \n",
              "\n",
              "Price         EMA_50        SMA_20 StochRSI_K StochRSI_D  \n",
              "Ticker                                                    \n",
              "1602    16692.189403  16277.400049   0.973026   0.964789  \n",
              "1603    16690.981991  16255.342529   1.000000   0.982017  \n",
              "1604    16686.808218  16231.115088   0.999300   0.990775  \n",
              "1605    16680.374562  16223.372607   0.999300   0.999534  \n",
              "1606    16678.320658  16220.640088   0.999300   0.999300  \n",
              "...              ...           ...        ...        ...  \n",
              "1697    17247.196626  17274.380078   0.428178   0.433924  \n",
              "1698    17244.784963  17239.795020   0.683505   0.506951  \n",
              "1699    17247.413034  17228.842578   0.866672   0.659452  \n",
              "1700    17256.806610  17222.077539   1.000000   0.850059  \n",
              "1701    17266.823998  17206.877539   1.000000   0.955557  \n",
              "\n",
              "[100 rows x 9 columns]"
            ]
          },
          "execution_count": 37,
          "metadata": {},
          "output_type": "execute_result"
        }
      ],
      "source": [
        "past_100_days"
      ]
    },
    {
      "cell_type": "code",
      "execution_count": 38,
      "id": "fbe96698",
      "metadata": {
        "colab": {
          "base_uri": "https://localhost:8080/"
        },
        "id": "fbe96698",
        "outputId": "ec713620-10e7-4e41-fa4a-da124c3d252c"
      },
      "outputs": [
        {
          "data": {
            "text/plain": [
              "array([[0.80086279, 0.8153557 , 0.47732063, ..., 0.83409696, 0.97302577,\n",
              "        0.96478919],\n",
              "       [0.82083919, 0.84220587, 0.54974075, ..., 0.83207674, 1.        ,\n",
              "        0.98201718],\n",
              "       [0.82520486, 0.83552704, 0.54885007, ..., 0.82985778, 0.99930034,\n",
              "        0.99077537],\n",
              "       ...,\n",
              "       [1.52593122, 1.53309652, 0.32225807, ..., 1.63085416, 0.        ,\n",
              "        0.08884005],\n",
              "       [1.51976485, 1.55266825, 0.4073724 , ..., 1.63140942, 0.04730802,\n",
              "        0.03868344],\n",
              "       [1.53176966, 1.55770449, 0.38717974, ..., 1.63214189, 0.08339261,\n",
              "        0.04356688]], shape=(830, 9))"
            ]
          },
          "execution_count": 38,
          "metadata": {},
          "output_type": "execute_result"
        }
      ],
      "source": [
        "input_data = scaler.transform(final_df)\n",
        "input_data"
      ]
    },
    {
      "cell_type": "code",
      "execution_count": 39,
      "id": "ea131f87",
      "metadata": {
        "colab": {
          "base_uri": "https://localhost:8080/"
        },
        "id": "ea131f87",
        "outputId": "9b46a74e-2fea-4b8d-9e3d-12d51b6e8953"
      },
      "outputs": [
        {
          "data": {
            "text/plain": [
              "(830, 9)"
            ]
          },
          "execution_count": 39,
          "metadata": {},
          "output_type": "execute_result"
        }
      ],
      "source": [
        "input_data.shape"
      ]
    },
    {
      "cell_type": "code",
      "execution_count": 40,
      "id": "81fd2c64",
      "metadata": {
        "id": "81fd2c64"
      },
      "outputs": [],
      "source": [
        "x_test = []\n",
        "y_test = []\n",
        "\n",
        "close_index = features.index('Close')\n",
        "open_index = features.index('Open')\n",
        "\n",
        "for i in range(time_step, input_data.shape[0]):\n",
        "    x_test.append(input_data[i-time_step:i])\n",
        "    y_test.append(input_data[i, [close_index, open_index]])\n",
        "\n",
        "x_test, y_test = np.array(x_test), np.array(y_test)"
      ]
    },
    {
      "cell_type": "code",
      "execution_count": 41,
      "id": "35bafeac",
      "metadata": {
        "id": "35bafeac"
      },
      "outputs": [],
      "source": [
        "x_test, y_test = np.array(x_test), np.array(y_test)"
      ]
    },
    {
      "cell_type": "code",
      "execution_count": 42,
      "id": "0af83ee1",
      "metadata": {
        "colab": {
          "base_uri": "https://localhost:8080/"
        },
        "id": "0af83ee1",
        "outputId": "24dd1ad2-d54e-4764-b2e9-11ff5edfdae4"
      },
      "outputs": [
        {
          "data": {
            "text/plain": [
              "array([[[0.80086279, 0.8153557 , 0.47732063, ..., 0.83409696,\n",
              "         0.97302577, 0.96478919],\n",
              "        [0.82083919, 0.84220587, 0.54974075, ..., 0.83207674,\n",
              "         1.        , 0.98201718],\n",
              "        [0.82520486, 0.83552704, 0.54885007, ..., 0.82985778,\n",
              "         0.99930034, 0.99077537],\n",
              "        ...,\n",
              "        [0.87411809, 0.89873072, 0.54499359, ..., 0.9212382 ,\n",
              "         0.86667248, 0.65945158],\n",
              "        [0.89950516, 0.91395248, 0.58430118, ..., 0.9206186 ,\n",
              "         1.        , 0.85005901],\n",
              "        [0.91068088, 0.91615131, 0.63676869, ..., 0.91922645,\n",
              "         1.        , 0.95555749]],\n",
              "\n",
              "       [[0.82083919, 0.84220587, 0.54974075, ..., 0.83207674,\n",
              "         1.        , 0.98201718],\n",
              "        [0.82520486, 0.83552704, 0.54885007, ..., 0.82985778,\n",
              "         0.99930034, 0.99077537],\n",
              "        [0.82658249, 0.83015607, 0.62497608, ..., 0.82914866,\n",
              "         0.99930034, 0.99953356],\n",
              "        ...,\n",
              "        [0.89950516, 0.91395248, 0.58430118, ..., 0.9206186 ,\n",
              "         1.        , 0.85005901],\n",
              "        [0.91068088, 0.91615131, 0.63676869, ..., 0.91922645,\n",
              "         1.        , 0.95555749],\n",
              "        [0.8981535 , 0.92064438, 0.65976423, ..., 0.91851939,\n",
              "         1.        , 1.        ]],\n",
              "\n",
              "       [[0.82520486, 0.83552704, 0.54885007, ..., 0.82985778,\n",
              "         0.99930034, 0.99077537],\n",
              "        [0.82658249, 0.83015607, 0.62497608, ..., 0.82914866,\n",
              "         0.99930034, 0.99953356],\n",
              "        [0.81684479, 0.83930312, 0.64812563, ..., 0.82889839,\n",
              "         0.99930034, 0.99930034],\n",
              "        ...,\n",
              "        [0.91068088, 0.91615131, 0.63676869, ..., 0.91922645,\n",
              "         1.        , 0.95555749],\n",
              "        [0.8981535 , 0.92064438, 0.65976423, ..., 0.91851939,\n",
              "         1.        , 1.        ],\n",
              "        [0.91540501, 0.92171782, 0.60952875, ..., 0.91827439,\n",
              "         0.96433388, 0.98811129]],\n",
              "\n",
              "       ...,\n",
              "\n",
              "       [[1.4606217 , 1.48068248, 0.51536403, ..., 1.53302316,\n",
              "         0.44241321, 0.68711618],\n",
              "        [1.50245279, 1.56035076, 0.64871702, ..., 1.54396273,\n",
              "         0.30310198, 0.49329589],\n",
              "        [1.54079485, 1.53025029, 0.54940012, ..., 1.55394221,\n",
              "         0.15057649, 0.29869723],\n",
              "        ...,\n",
              "        [1.55551578, 1.55740897, 0.52809943, ..., 1.62962139,\n",
              "         0.38114739, 0.52816079],\n",
              "        [1.53686522, 1.53688567, 0.42404929, ..., 1.63066481,\n",
              "         0.19777785, 0.37117206],\n",
              "        [1.52909233, 1.53516499, 0.37854429, ..., 1.63070991,\n",
              "         0.0687423 , 0.21588918]],\n",
              "\n",
              "       [[1.50245279, 1.56035076, 0.64871702, ..., 1.54396273,\n",
              "         0.30310198, 0.49329589],\n",
              "        [1.54079485, 1.53025029, 0.54940012, ..., 1.55394221,\n",
              "         0.15057649, 0.29869723],\n",
              "        [1.51918189, 1.53794604, 0.53654332, ..., 1.5623608 ,\n",
              "         0.16962853, 0.207769  ],\n",
              "        ...,\n",
              "        [1.53686522, 1.53688567, 0.42404929, ..., 1.63066481,\n",
              "         0.19777785, 0.37117206],\n",
              "        [1.52909233, 1.53516499, 0.37854429, ..., 1.63070991,\n",
              "         0.0687423 , 0.21588918],\n",
              "        [1.52593122, 1.53309652, 0.32225807, ..., 1.63085416,\n",
              "         0.        , 0.08884005]],\n",
              "\n",
              "       [[1.54079485, 1.53025029, 0.54940012, ..., 1.55394221,\n",
              "         0.15057649, 0.29869723],\n",
              "        [1.51918189, 1.53794604, 0.53654332, ..., 1.5623608 ,\n",
              "         0.16962853, 0.207769  ],\n",
              "        [1.52614713, 1.57229193, 0.61750903, ..., 1.57029946,\n",
              "         0.14155508, 0.15392003],\n",
              "        ...,\n",
              "        [1.52909233, 1.53516499, 0.37854429, ..., 1.63070991,\n",
              "         0.0687423 , 0.21588918],\n",
              "        [1.52593122, 1.53309652, 0.32225807, ..., 1.63085416,\n",
              "         0.        , 0.08884005],\n",
              "        [1.51976485, 1.55266825, 0.4073724 , ..., 1.63140942,\n",
              "         0.04730802, 0.03868344]]], shape=(730, 100, 9))"
            ]
          },
          "execution_count": 42,
          "metadata": {},
          "output_type": "execute_result"
        }
      ],
      "source": [
        "x_test"
      ]
    },
    {
      "cell_type": "code",
      "execution_count": 43,
      "id": "tGqcU-REi1SQ",
      "metadata": {
        "colab": {
          "base_uri": "https://localhost:8080/"
        },
        "id": "tGqcU-REi1SQ",
        "outputId": "4ca68cc5-2ce7-483a-c4dc-895d97e011f9"
      },
      "outputs": [
        {
          "data": {
            "text/plain": [
              "array([[0.92064438, 0.8981535 ],\n",
              "       [0.92171782, 0.91540501],\n",
              "       [0.93514066, 0.92520749],\n",
              "       ...,\n",
              "       [1.53309652, 1.52593122],\n",
              "       [1.55266825, 1.51976485],\n",
              "       [1.55770449, 1.53176966]], shape=(730, 2))"
            ]
          },
          "execution_count": 43,
          "metadata": {},
          "output_type": "execute_result"
        }
      ],
      "source": [
        "y_test"
      ]
    },
    {
      "cell_type": "markdown",
      "id": "e6c232d3",
      "metadata": {
        "id": "e6c232d3"
      },
      "source": [
        "## 9. Making Prediction"
      ]
    },
    {
      "cell_type": "code",
      "execution_count": 44,
      "id": "6dc30a7e",
      "metadata": {
        "colab": {
          "base_uri": "https://localhost:8080/"
        },
        "id": "6dc30a7e",
        "outputId": "b30d901f-68f8-4b9f-8bf8-36b062756c89"
      },
      "outputs": [
        {
          "name": "stdout",
          "output_type": "stream",
          "text": [
            "\u001b[1m23/23\u001b[0m \u001b[32m━━━━━━━━━━━━━━━━━━━━\u001b[0m\u001b[37m\u001b[0m \u001b[1m1s\u001b[0m 22ms/step\n"
          ]
        }
      ],
      "source": [
        "y_predicted = model.predict(x_test)"
      ]
    },
    {
      "cell_type": "code",
      "execution_count": 45,
      "id": "f7956150",
      "metadata": {
        "colab": {
          "base_uri": "https://localhost:8080/"
        },
        "id": "f7956150",
        "outputId": "30dfe04d-ff71-4c8f-89fe-ecb68f8f15f3"
      },
      "outputs": [
        {
          "data": {
            "text/plain": [
              "array([[0.91583246, 0.9045877 ],\n",
              "       [0.91544044, 0.904348  ],\n",
              "       [0.9156599 , 0.9043408 ],\n",
              "       ...,\n",
              "       [1.4812073 , 1.459343  ],\n",
              "       [1.4787501 , 1.4557973 ],\n",
              "       [1.5018024 , 1.4771198 ]], shape=(730, 2), dtype=float32)"
            ]
          },
          "execution_count": 45,
          "metadata": {},
          "output_type": "execute_result"
        }
      ],
      "source": [
        "y_predicted"
      ]
    },
    {
      "cell_type": "code",
      "execution_count": 46,
      "id": "82900cd3",
      "metadata": {
        "colab": {
          "base_uri": "https://localhost:8080/"
        },
        "id": "82900cd3",
        "outputId": "0d44f1c0-6a3a-4c2f-eaa7-d033a4a44abf"
      },
      "outputs": [
        {
          "data": {
            "text/plain": [
              "array([[0.92064438, 0.8981535 ],\n",
              "       [0.92171782, 0.91540501],\n",
              "       [0.93514066, 0.92520749],\n",
              "       ...,\n",
              "       [1.53309652, 1.52593122],\n",
              "       [1.55266825, 1.51976485],\n",
              "       [1.55770449, 1.53176966]], shape=(730, 2))"
            ]
          },
          "execution_count": 46,
          "metadata": {},
          "output_type": "execute_result"
        }
      ],
      "source": [
        "y_test"
      ]
    },
    {
      "cell_type": "code",
      "execution_count": 47,
      "id": "3d6e6d6c",
      "metadata": {
        "id": "3d6e6d6c"
      },
      "outputs": [],
      "source": [
        "dummy_array = np.zeros(shape=(len(y_predicted), len(features)))\n",
        "# dummy_array[:, 0] = y_predicted.flatten()"
      ]
    },
    {
      "cell_type": "code",
      "execution_count": 48,
      "id": "_0aqTja3IqC8",
      "metadata": {
        "id": "_0aqTja3IqC8"
      },
      "outputs": [],
      "source": [
        "# Create a dummy array with the shape of the original features to inverse transform the predicted values\n",
        "# Only the 'Close' and 'Open' columns will be populated with predictions\n",
        "dummy_array = np.zeros(shape=(len(y_predicted), len(features)))\n",
        "\n",
        "close_index = features.index('Close')\n",
        "open_index = features.index('Open')\n",
        "\n",
        "dummy_array[:, close_index] = y_predicted[:, 0]\n",
        "dummy_array[:, open_index] = y_predicted[:, 1]\n",
        "\n",
        "y_predicted_final = scaler.inverse_transform(dummy_array)"
      ]
    },
    {
      "cell_type": "code",
      "execution_count": 49,
      "id": "ec0418c2",
      "metadata": {
        "colab": {
          "base_uri": "https://localhost:8080/"
        },
        "id": "ec0418c2",
        "outputId": "e3b77380-3e7a-4dbc-c518-087a781d8db2"
      },
      "outputs": [
        {
          "data": {
            "text/plain": [
              "array([[1.74975991e+04, 1.75085811e+04, 6.67976424e+00, ...,\n",
              "        7.17040002e+03, 0.00000000e+00, 0.00000000e+00],\n",
              "       [1.74948240e+04, 1.75040704e+04, 6.67976424e+00, ...,\n",
              "        7.17040002e+03, 0.00000000e+00, 0.00000000e+00],\n",
              "       [1.74947405e+04, 1.75065956e+04, 6.67976424e+00, ...,\n",
              "        7.17040002e+03, 0.00000000e+00, 0.00000000e+00],\n",
              "       ...,\n",
              "       [2.39209438e+04, 2.40140383e+04, 6.67976424e+00, ...,\n",
              "        7.17040002e+03, 0.00000000e+00, 0.00000000e+00],\n",
              "       [2.38798898e+04, 2.39857653e+04, 6.67976424e+00, ...,\n",
              "        7.17040002e+03, 0.00000000e+00, 0.00000000e+00],\n",
              "       [2.41267765e+04, 2.42510159e+04, 6.67976424e+00, ...,\n",
              "        7.17040002e+03, 0.00000000e+00, 0.00000000e+00]], shape=(730, 9))"
            ]
          },
          "execution_count": 49,
          "metadata": {},
          "output_type": "execute_result"
        }
      ],
      "source": [
        "y_predicted_final"
      ]
    },
    {
      "cell_type": "code",
      "execution_count": 50,
      "id": "1a0827f3",
      "metadata": {
        "id": "1a0827f3"
      },
      "outputs": [],
      "source": [
        "# Create a dummy array with the shape of the original features to inverse transform the actual values\n",
        "# Only the 'Close' and 'Open' columns will be populated with actual values\n",
        "dummy_y_test = np.zeros(shape=(len(y_test), len(features)))\n",
        "\n",
        "close_index = features.index('Close')\n",
        "open_index = features.index('Open')\n",
        "\n",
        "dummy_y_test[:, close_index] = y_test[:, 0]\n",
        "dummy_y_test[:, open_index] = y_test[:, 1]\n",
        "\n",
        "\n",
        "y_test_actual = scaler.inverse_transform(dummy_y_test)"
      ]
    },
    {
      "cell_type": "code",
      "execution_count": 51,
      "id": "cc246112",
      "metadata": {
        "colab": {
          "base_uri": "https://localhost:8080/",
          "height": 1000
        },
        "id": "cc246112",
        "outputId": "9a7beb09-5601-4758-ac23-a9780063a1ea"
      },
      "outputs": [
        {
          "data": {
            "image/png": "[encoded data removed]",
            "text/plain": [
              "<Figure size 1200x600 with 1 Axes>"
            ]
          },
          "metadata": {},
          "output_type": "display_data"
        },
        {
          "data": {
            "image/png": "[encoded data removed]",
            "text/plain": [
              "<Figure size 1200x600 with 1 Axes>"
            ]
          },
          "metadata": {},
          "output_type": "display_data"
        }
      ],
      "source": [
        "plt.figure(figsize=(12,6))\n",
        "plt.plot(y_test_actual[:, 0], 'b', label='Actual Close Price')\n",
        "plt.plot(y_predicted_final[:, 0], 'r', label='Predicted Close Price')\n",
        "plt.xlabel('Days')\n",
        "plt.ylabel('Price')\n",
        "plt.title(f\"{ticker} Close Price Prediction\")\n",
        "plt.legend()\n",
        "plt.show()\n",
        "\n",
        "plt.figure(figsize=(12,6))\n",
        "plt.plot(y_test_actual[:, 1], 'b', label='Actual Open Price')\n",
        "plt.plot(y_predicted_final[:, 1], 'r', label='Predicted Open Price')\n",
        "plt.xlabel('Days')\n",
        "plt.ylabel('Price')\n",
        "plt.title(f\"{ticker} Open Price Prediction\")\n",
        "plt.legend()\n",
        "plt.show()"
      ]
    },
    {
      "cell_type": "code",
      "execution_count": 52,
      "id": "3aa5b647",
      "metadata": {
        "colab": {
          "base_uri": "https://localhost:8080/",
          "height": 1000
        },
        "id": "3aa5b647",
        "outputId": "514290d5-8783-4905-e46e-b829188265af"
      },
      "outputs": [
        {
          "data": {
            "image/png": "[encoded data removed]",
            "text/plain": [
              "<Figure size 1200x600 with 1 Axes>"
            ]
          },
          "metadata": {},
          "output_type": "display_data"
        },
        {
          "data": {
            "image/png": "[encoded data removed]",
            "text/plain": [
              "<Figure size 1200x600 with 1 Axes>"
            ]
          },
          "metadata": {},
          "output_type": "display_data"
        }
      ],
      "source": [
        "plt.figure(figsize=(12,6))\n",
        "plt.plot(y_test_actual[:, 0], 'b', label = 'Actual Close Price')\n",
        "plt.plot(y_predicted_final[:, 0], 'r', label = 'Predicted Close Price')\n",
        "plt.xlabel('Days')\n",
        "plt.ylabel('Price')\n",
        "plt.legend()\n",
        "plt.xlim(200, 400)\n",
        "plt.ylim(15000, 25000)\n",
        "plt.title(f\"{ticker} Close Price Prediction (Zoomed)\")\n",
        "plt.show()\n",
        "\n",
        "plt.figure(figsize=(12,6))\n",
        "plt.plot(y_test_actual[:, 1], 'b', label = 'Actual Open Price')\n",
        "plt.plot(y_predicted_final[:, 1], 'r', label = 'Predicted Open Price')\n",
        "plt.xlabel('Days')\n",
        "plt.ylabel('Price')\n",
        "plt.legend()\n",
        "plt.xlim(200, 400)\n",
        "plt.ylim(15000, 25000)\n",
        "plt.title(f\"{ticker} Open Price Prediction (Zoomed)\")\n",
        "plt.show()"
      ]
    },
    {
      "cell_type": "markdown",
      "id": "53b01d02",
      "metadata": {
        "id": "53b01d02"
      },
      "source": [
        "## 10. Model Evaluation"
      ]
    },
    {
      "cell_type": "code",
      "execution_count": 53,
      "id": "b023b84e",
      "metadata": {
        "id": "b023b84e"
      },
      "outputs": [],
      "source": [
        "# MSE\n",
        "from sklearn.metrics import mean_squared_error, r2_score"
      ]
    },
    {
      "cell_type": "code",
      "execution_count": 54,
      "id": "ee7c3179",
      "metadata": {
        "colab": {
          "base_uri": "https://localhost:8080/"
        },
        "id": "ee7c3179",
        "outputId": "6e555ad2-c957-4876-b11e-75190b1c71c5"
      },
      "outputs": [
        {
          "name": "stdout",
          "output_type": "stream",
          "text": [
            "Mean Squred Error (MSE) for Close Price: 0.00165684245531053\n",
            "Mean Squred Error (MSE) for Open Price: 0.0019118735239833891\n"
          ]
        }
      ],
      "source": [
        "# Calculate MSE for Close and Open prices separately\n",
        "mse_close = mean_squared_error(y_test[:, 0], y_predicted[:, 0])\n",
        "mse_open = mean_squared_error(y_test[:, 1], y_predicted[:, 1])\n",
        "\n",
        "print(f\"Mean Squred Error (MSE) for Close Price: {mse_close}\")\n",
        "print(f\"Mean Squred Error (MSE) for Open Price: {mse_open}\")"
      ]
    },
    {
      "cell_type": "code",
      "execution_count": 55,
      "id": "834cc62b",
      "metadata": {
        "colab": {
          "base_uri": "https://localhost:8080/"
        },
        "id": "834cc62b",
        "outputId": "fbc83be2-1ec2-420f-861c-dc41373f0c22"
      },
      "outputs": [
        {
          "name": "stdout",
          "output_type": "stream",
          "text": [
            "Root Mean Squred Error (RMSE) for Close Price: 0.04070432968752255\n",
            "Root Mean Squred Error (RMSE) for Open Price: 0.04372497597464622\n"
          ]
        }
      ],
      "source": [
        "# Calculate RMSE for Close and Open prices separately\n",
        "rmse_close = np.sqrt(mean_squared_error(y_test[:, 0], y_predicted[:, 0]))\n",
        "rmse_open = np.sqrt(mean_squared_error(y_test[:, 1], y_predicted[:, 1]))\n",
        "\n",
        "print(f\"Root Mean Squred Error (RMSE) for Close Price: {rmse_close}\")\n",
        "print(f\"Root Mean Squred Error (RMSE) for Open Price: {rmse_open}\")"
      ]
    },
    {
      "cell_type": "code",
      "execution_count": 56,
      "id": "26251869",
      "metadata": {
        "colab": {
          "base_uri": "https://localhost:8080/"
        },
        "id": "26251869",
        "outputId": "e46a8637-91ad-4c73-b37a-d5fcce5403ac"
      },
      "outputs": [
        {
          "name": "stdout",
          "output_type": "stream",
          "text": [
            "R-Squared for Close Price: 0.9700223690309018\n",
            "R-Squared for Open Price: 0.9649560872515216\n"
          ]
        }
      ],
      "source": [
        "# Calculate R-Squared for Close and Open prices separately\n",
        "r2_close = r2_score(y_test[:, 0], y_predicted[:, 0])\n",
        "r2_open = r2_score(y_test[:, 1], y_predicted[:, 1])\n",
        "\n",
        "print(f\"R-Squared for Close Price: {r2_close}\")\n",
        "print(f\"R-Squared for Open Price: {r2_open}\")"
      ]
    },
    {
      "cell_type": "code",
      "execution_count": 57,
      "id": "e15549c5",
      "metadata": {
        "colab": {
          "base_uri": "https://localhost:8080/"
        },
        "id": "e15549c5",
        "outputId": "c9c49770-6f1a-4ce9-f169-05b3955e13fb"
      },
      "outputs": [
        {
          "name": "stdout",
          "output_type": "stream",
          "text": [
            "Model Confidence (R-squared) for Close Price: 97.00%\n",
            "Model Confidence (R-squared) for Open Price: 96.50%\n"
          ]
        }
      ],
      "source": [
        "# Print model confidence for Close and Open prices separately\n",
        "r2_close = r2_score(y_test[:, 0], y_predicted[:, 0])\n",
        "r2_open = r2_score(y_test[:, 1], y_predicted[:, 1])\n",
        "\n",
        "print(f\"Model Confidence (R-squared) for Close Price: {(r2_close * 100):.2f}%\")\n",
        "print(f\"Model Confidence (R-squared) for Open Price: {(r2_open * 100):.2f}%\")"
      ]
    },
    {
      "cell_type": "code",
      "execution_count": null,
      "id": "S3hsvrG6qYH3",
      "metadata": {
        "id": "S3hsvrG6qYH3"
      },
      "outputs": [],
      "source": []
    }
  ],
  "metadata": {
    "accelerator": "GPU",
    "colab": {
      "gpuType": "T4",
      "provenance": []
    },
    "kernelspec": {
      "display_name": "Python 3",
      "name": "python3"
    },
    "language_info": {
      "codemirror_mode": {
        "name": "ipython",
        "version": 3
      },
      "file_extension": ".py",
      "mimetype": "text/x-python",
      "name": "python",
      "nbconvert_exporter": "python",
      "pygments_lexer": "ipython3",
      "version": "3.13.5"
    }
  },
  "nbformat": 4,
  "nbformat_minor": 5
}
