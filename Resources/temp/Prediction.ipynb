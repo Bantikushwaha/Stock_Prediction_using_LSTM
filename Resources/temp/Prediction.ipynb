{
 "cells": [
  {
   "cell_type": "code",
   "execution_count": 1,
   "id": "c8a94ca4",
   "metadata": {},
   "outputs": [],
   "source": [
    "import numpy as np\n",
    "import pandas as pd\n",
    "import matplotlib.pyplot as plt\n",
    "import yfinance as yf\n",
    "from sklearn.preprocessing import MinMaxScaler\n",
    "from tensorflow import keras\n",
    "\n",
    "model = keras.models.load_model('stock_prediction_model.keras')"
   ]
  },
  {
   "cell_type": "code",
   "execution_count": 2,
   "id": "add71a9d",
   "metadata": {},
   "outputs": [
    {
     "name": "stdout",
     "output_type": "stream",
     "text": [
      "From: 2025-05-02 18:03:40.723113 to 2025-09-29 18:03:40.723113\n"
     ]
    }
   ],
   "source": [
    "from datetime import datetime, timedelta\n",
    "\n",
    "now = datetime.now()\n",
    "time_delta = timedelta(days=150)\n",
    "start = now - time_delta\n",
    "end = now\n",
    "\n",
    "print(f\"From: {start} to {end}\")"
   ]
  },
  {
   "cell_type": "code",
   "execution_count": 3,
   "id": "a56ce17a",
   "metadata": {},
   "outputs": [
    {
     "name": "stderr",
     "output_type": "stream",
     "text": [
      "C:\\Users\\Krish Patel\\AppData\\Local\\Temp\\ipykernel_7640\\410058184.py:2: FutureWarning: YF.download() has changed argument auto_adjust default to True\n",
      "  df = yf.download(ticker, start, end)\n",
      "[*********************100%***********************]  1 of 1 completed\n"
     ]
    },
    {
     "data": {
      "text/plain": [
       "<bound method NDFrame.head of Price              Close          High           Low          Open  Volume\n",
       "Ticker             ^NSEI         ^NSEI         ^NSEI         ^NSEI   ^NSEI\n",
       "Date                                                                      \n",
       "2025-05-02  24346.699219  24589.150391  24238.500000  24311.900391  421100\n",
       "2025-05-05  24461.150391  24526.400391  24400.650391  24419.500000  291500\n",
       "2025-05-06  24379.599609  24509.650391  24331.800781  24500.750000  302400\n",
       "2025-05-07  24414.400391  24449.599609  24220.000000  24233.300781  330100\n",
       "2025-05-08  24273.800781  24447.250000  24150.199219  24431.500000  411400\n",
       "...                  ...           ...           ...           ...     ...\n",
       "2025-09-23  25169.500000  25261.900391  25084.650391  25209.000000  299200\n",
       "2025-09-24  25056.900391  25149.849609  25027.449219  25108.750000  244400\n",
       "2025-09-25  24890.849609  25092.699219  24878.300781  25034.500000  342500\n",
       "2025-09-26  24654.699219  24868.599609  24629.449219  24818.550781  291500\n",
       "2025-09-29  24634.900391  24791.300781  24606.199219  24728.550781       0\n",
       "\n",
       "[105 rows x 5 columns]>"
      ]
     },
     "execution_count": 3,
     "metadata": {},
     "output_type": "execute_result"
    }
   ],
   "source": [
    "ticker = \"^NSEI\"\n",
    "df = yf.download(ticker, start, end)\n",
    "df.head"
   ]
  },
  {
   "cell_type": "code",
   "execution_count": 4,
   "id": "10cc88fb",
   "metadata": {},
   "outputs": [
    {
     "name": "stdout",
     "output_type": "stream",
     "text": [
      "\u001b[1m1/1\u001b[0m \u001b[32m━━━━━━━━━━━━━━━━━━━━\u001b[0m\u001b[37m\u001b[0m \u001b[1m0s\u001b[0m 306ms/step\n",
      "Predicted Price for Today: 24646.076171875\n"
     ]
    }
   ],
   "source": [
    "# Scale the data\n",
    "scaler = MinMaxScaler(feature_range=(0, 1))\n",
    "scaled_data = scaler.fit_transform(df[['Close']])  # Use only the 'Close' column\n",
    "\n",
    "# Prepare the input for prediction\n",
    "x_input = np.array([scaled_data[-100:]])  # Last 100 rows\n",
    "x_input = x_input.reshape(1, 100, 1)  # Reshape to (1, 100, 1)\n",
    "\n",
    "# Predict today's price\n",
    "y_predicted = model.predict(x_input)\n",
    "\n",
    "# Inverse transform the prediction to get the actual price\n",
    "y_predicted = scaler.inverse_transform(y_predicted)\n",
    "\n",
    "print(f\"Predicted Price for Today: {y_predicted.flatten()[0]}\")"
   ]
  }
 ],
 "metadata": {
  "kernelspec": {
   "display_name": "Python 3",
   "language": "python",
   "name": "python3"
  },
  "language_info": {
   "codemirror_mode": {
    "name": "ipython",
    "version": 3
   },
   "file_extension": ".py",
   "mimetype": "text/x-python",
   "name": "python",
   "nbconvert_exporter": "python",
   "pygments_lexer": "ipython3",
   "version": "3.13.5"
  }
 },
 "nbformat": 4,
 "nbformat_minor": 5
}
